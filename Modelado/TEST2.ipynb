{
  "cells": [
    {
      "cell_type": "markdown",
      "metadata": {
        "papermill": {
          "duration": 0.032369,
          "end_time": "2020-10-06T21:19:31.851445",
          "exception": false,
          "start_time": "2020-10-06T21:19:31.819076",
          "status": "completed"
        },
        "tags": [],
        "id": "bTHNMv33ezYf"
      },
      "source": [
        "# Analisis de Sentimientos Foros Moodle Deep Learning Modelo 2"
      ]
    },
    {
      "cell_type": "markdown",
      "metadata": {
        "papermill": {
          "duration": 0.030876,
          "end_time": "2020-10-06T21:19:31.915205",
          "exception": false,
          "start_time": "2020-10-06T21:19:31.884329",
          "status": "completed"
        },
        "tags": [],
        "id": "0AYyTE4QezYj"
      },
      "source": [
        "# Librerias Necesarias"
      ]
    },
    {
      "cell_type": "code",
      "execution_count": null,
      "metadata": {
        "execution": {
          "iopub.execute_input": "2020-10-06T21:19:31.986613Z",
          "iopub.status.busy": "2020-10-06T21:19:31.985943Z",
          "iopub.status.idle": "2020-10-06T21:19:41.514922Z",
          "shell.execute_reply": "2020-10-06T21:19:41.515686Z"
        },
        "papermill": {
          "duration": 9.569887,
          "end_time": "2020-10-06T21:19:41.515898",
          "exception": false,
          "start_time": "2020-10-06T21:19:31.946011",
          "status": "completed"
        },
        "tags": [],
        "colab": {
          "base_uri": "https://localhost:8080/"
        },
        "id": "Qcmvc3jnezYk",
        "outputId": "e8ef7356-f75f-4696-bf57-570dbe74f5df"
      },
      "outputs": [
        {
          "output_type": "stream",
          "name": "stdout",
          "text": [
            "[nltk_data] Downloading package stopwords to /root/nltk_data...\n",
            "[nltk_data]   Package stopwords is already up-to-date!\n",
            "[nltk_data] Downloading package punkt to /root/nltk_data...\n",
            "[nltk_data]   Unzipping tokenizers/punkt.zip.\n"
          ]
        },
        {
          "output_type": "execute_result",
          "data": {
            "text/plain": [
              "True"
            ]
          },
          "metadata": {},
          "execution_count": 46
        }
      ],
      "source": [
        "import re\n",
        "import matplotlib.pyplot as plt\n",
        "import string\n",
        "from nltk.corpus import stopwords\n",
        "import nltk\n",
        "from nltk.corpus import wordnet\n",
        "from nltk.stem import WordNetLemmatizer\n",
        "from nltk.tokenize.treebank import TreebankWordDetokenizer\n",
        "from collections import Counter\n",
        "from wordcloud import WordCloud\n",
        "from nltk.corpus import stopwords\n",
        "import nltk\n",
        "from gensim.utils import simple_preprocess\n",
        "from nltk.corpus import stopwords\n",
        "import gensim\n",
        "from sklearn.model_selection import train_test_split\n",
        "import spacy\n",
        "import pickle\n",
        "import warnings\n",
        "warnings.filterwarnings('ignore')\n",
        "import seaborn as sns\n",
        "from sklearn.metrics import confusion_matrix\n",
        "import matplotlib.pyplot as plt \n",
        "import tensorflow as tf\n",
        "import keras\n",
        "import numpy as np\n",
        "import pandas as pd\n",
        "from bs4 import BeautifulSoup\n",
        "from nltk.corpus import stopwords\n",
        "from nltk.tokenize import word_tokenize\n",
        "nltk.download('stopwords') \n",
        "nltk.download('punkt')"
      ]
    },
    {
      "cell_type": "markdown",
      "metadata": {
        "papermill": {
          "duration": 0.032245,
          "end_time": "2020-10-06T21:19:41.583484",
          "exception": false,
          "start_time": "2020-10-06T21:19:41.551239",
          "status": "completed"
        },
        "tags": [],
        "id": "ialCPIt4ezYl"
      },
      "source": [
        "## Importar Conjunto de Datos Consolidado"
      ]
    },
    {
      "cell_type": "code",
      "execution_count": null,
      "metadata": {
        "_cell_guid": "79c7e3d0-c299-4dcb-8224-4455121ee9b0",
        "_uuid": "d629ff2d2480ee46fbb7e2d37f6b5fab8052498a",
        "execution": {
          "iopub.execute_input": "2020-10-06T21:19:41.667156Z",
          "iopub.status.busy": "2020-10-06T21:19:41.666425Z",
          "iopub.status.idle": "2020-10-06T21:19:41.753917Z",
          "shell.execute_reply": "2020-10-06T21:19:41.752384Z"
        },
        "papermill": {
          "duration": 0.132806,
          "end_time": "2020-10-06T21:19:41.754037",
          "exception": false,
          "start_time": "2020-10-06T21:19:41.621231",
          "status": "completed"
        },
        "tags": [],
        "colab": {
          "base_uri": "https://localhost:8080/"
        },
        "id": "xwWv_MpvezYm",
        "outputId": "77d17591-1f44-4acd-dbbe-763b7d051b4c"
      },
      "outputs": [
        {
          "output_type": "stream",
          "name": "stdout",
          "text": [
            "Mounted at /content/gdrive/\n"
          ]
        }
      ],
      "source": [
        "from google.colab import drive\n",
        "drive.mount('/content/gdrive/',force_remount=True)\n",
        "\n",
        "pd.set_option('display.max_columns', None)\n",
        "pd.set_option('display.max_rows', None)\n",
        "pd.set_option('display.max_colwidth', -1)\n",
        "\n",
        "#train_data=pd.read_csv('/content/gdrive/My Drive/TFM_Analisis_Sentimientos/Corpus/dataset_consolidado.csv', encoding='utf-8',engine='python',error_bad_lines=False)\n",
        "\n",
        "\n"
      ]
    },
    {
      "cell_type": "code",
      "source": [
        "#Tomar una muestra balanceada del corpus\n",
        "\n",
        "#df1=train_data[train_data.sentiment == \"POSITIVO\"].sample(3220)\n",
        "#df1.head()\n",
        "#df2=train_data[train_data.sentiment == \"NEGATIVO\"].sample(3220)\n",
        "#df2.head()\n",
        "#df3=train_data[train_data.sentiment == \"NEUTRAL\"].sample(3220)\n",
        "#df4=pd.concat([df1,df2,df3]) \n",
        "#train_data=df4\n",
        "#train_data.to_csv('/content/gdrive/My Drive/TFM_Analisis_Sentimientos/Corpus/dataset_balanced.csv',columns=['text','sentiment'],quoting=2, index=False)"
      ],
      "metadata": {
        "id": "O8NCrBNkfq-q"
      },
      "execution_count": null,
      "outputs": []
    },
    {
      "cell_type": "code",
      "source": [
        "train= pd.read_csv('/content/gdrive/My Drive/TFM_Analisis_Sentimientos/Corpus/dataset_balanced.csv', encoding='utf-8')"
      ],
      "metadata": {
        "id": "E4YeiTgXbxPW"
      },
      "execution_count": null,
      "outputs": []
    },
    {
      "cell_type": "markdown",
      "metadata": {
        "papermill": {
          "duration": 0.031706,
          "end_time": "2020-10-06T21:19:41.817762",
          "exception": false,
          "start_time": "2020-10-06T21:19:41.786056",
          "status": "completed"
        },
        "tags": [],
        "id": "dsVX5FTnezYm"
      },
      "source": [
        "# Pre procesamiento"
      ]
    },
    {
      "cell_type": "code",
      "execution_count": null,
      "metadata": {
        "execution": {
          "iopub.execute_input": "2020-10-06T21:19:41.898583Z",
          "iopub.status.busy": "2020-10-06T21:19:41.897942Z",
          "iopub.status.idle": "2020-10-06T21:19:41.908219Z",
          "shell.execute_reply": "2020-10-06T21:19:41.908804Z"
        },
        "papermill": {
          "duration": 0.05902,
          "end_time": "2020-10-06T21:19:41.908931",
          "exception": false,
          "start_time": "2020-10-06T21:19:41.849911",
          "status": "completed"
        },
        "tags": [],
        "colab": {
          "base_uri": "https://localhost:8080/",
          "height": 668
        },
        "id": "9o8bH_u4ezYm",
        "outputId": "b5a99b0a-828c-4add-80fe-e5bf5144e1d2"
      },
      "outputs": [
        {
          "output_type": "execute_result",
          "data": {
            "text/html": [
              "\n",
              "  <div id=\"df-198677f2-8ceb-46fc-8fd7-29b3e8ed1483\">\n",
              "    <div class=\"colab-df-container\">\n",
              "      <div>\n",
              "<style scoped>\n",
              "    .dataframe tbody tr th:only-of-type {\n",
              "        vertical-align: middle;\n",
              "    }\n",
              "\n",
              "    .dataframe tbody tr th {\n",
              "        vertical-align: top;\n",
              "    }\n",
              "\n",
              "    .dataframe thead th {\n",
              "        text-align: right;\n",
              "    }\n",
              "</style>\n",
              "<table border=\"1\" class=\"dataframe\">\n",
              "  <thead>\n",
              "    <tr style=\"text-align: right;\">\n",
              "      <th></th>\n",
              "      <th>text</th>\n",
              "      <th>sentiment</th>\n",
              "    </tr>\n",
              "  </thead>\n",
              "  <tbody>\n",
              "    <tr>\n",
              "      <th>0</th>\n",
              "      <td>curso muy interesante en cuanto a contenido y en cuanto a desarrollo personal</td>\n",
              "      <td>POSITIVO</td>\n",
              "    </tr>\n",
              "    <tr>\n",
              "      <th>1</th>\n",
              "      <td>el mejor saludos desde panama</td>\n",
              "      <td>POSITIVO</td>\n",
              "    </tr>\n",
              "    <tr>\n",
              "      <th>2</th>\n",
              "      <td>es estupenda la manera en que te ensenan muy didactico y claro le doy un</td>\n",
              "      <td>POSITIVO</td>\n",
              "    </tr>\n",
              "    <tr>\n",
              "      <th>3</th>\n",
              "      <td>me ha parecido un curso fantastico breve didactico y muy bien preparado¡felicidadesfrancisco eugenio</td>\n",
              "      <td>POSITIVO</td>\n",
              "    </tr>\n",
              "    <tr>\n",
              "      <th>4</th>\n",
              "      <td>primera replica bueno creo que falta organizar la ideas pero al menos se miro el video de forma rapida en saltos como de cierta forma se responde con alguna ideas bastantes cambios que presenta ofrece distintas fases cambiante e incluso alterable teorias cientificas flexibles que se permiten adaptar etc lo que no comprendo son las siguientes frases investigaciones beneficiosas y lucrativas para el crecimiento de estas ciencias ciencia complejo ingenioso conocimiento para pasar de algo antiguo a algo innovador la ciencia trata de preguntar constantemente el porque de las cosas completamente redimidas esto es inedito en seguir buscando y este siga siendo persistente considero que ademas no se revisa lo que pide la pregunta que al plano de relatar lo presenta el conferencista tambien cosiste en relatar la experiencia personal de la cual no ha y nada en esta primera replica</td>\n",
              "      <td>POSITIVO</td>\n",
              "    </tr>\n",
              "    <tr>\n",
              "      <th>5</th>\n",
              "      <td>es muy claro que la pelicula es una recopilacion de hechos historicos en los cuales representan varios temas tratados en clase como la desviacion en la que un lider cambia su proposito o los medios manipulan la informacion para conveniencia se establece que la institucion es el estado que gobierna con unas leyes a conveniencia y lleva a un fanatismos con simbolizado con una imitacion por la esvastica utilizada por hitler por otro lado es un llamado a la revolucion necesaria asi conocida desde la revolucion francesa que se ha visto reflejada en muchas ocasiones con el fin de proteger una vez mas al pueblo oprimido y atacar el sistema que beneficia a unos cuantos en un punto de vista personal senti que esa pelicula solo cambio el contexto historico y llevo a las pantallas para demostrar el lema muy conocido el exceso del poder corrompe ya que aunque la idea de revolucion es necesaria no debe manejarse de esa forma</td>\n",
              "      <td>POSITIVO</td>\n",
              "    </tr>\n",
              "    <tr>\n",
              "      <th>6</th>\n",
              "      <td>excelente curso muy enriquecedor</td>\n",
              "      <td>POSITIVO</td>\n",
              "    </tr>\n",
              "    <tr>\n",
              "      <th>7</th>\n",
              "      <td>excelente curso todos los aplausos y felicitaciones para el docente excelente y explicito el material que nos brindo muy completo la verdad quedo mas que feliz y agradecida con el docente y la universidad</td>\n",
              "      <td>POSITIVO</td>\n",
              "    </tr>\n",
              "    <tr>\n",
              "      <th>8</th>\n",
              "      <td>excelente curso para aprender sobre el lenguaje de programacion python practico sencillo y muy bien estructurado</td>\n",
              "      <td>POSITIVO</td>\n",
              "    </tr>\n",
              "    <tr>\n",
              "      <th>9</th>\n",
              "      <td>excelente un verdadero manual de como usar el cerebro</td>\n",
              "      <td>POSITIVO</td>\n",
              "    </tr>\n",
              "    <tr>\n",
              "      <th>10</th>\n",
              "      <td>conceptos clave para ayudar en el dia a dia de la gestion de personal con total seguridad</td>\n",
              "      <td>POSITIVO</td>\n",
              "    </tr>\n",
              "    <tr>\n",
              "      <th>11</th>\n",
              "      <td>aprendi el alfabeto durante mi adolescencia despues de tantos anos decidi continuar con el aprendizaje y me siento muy satisfecha con este curso desearia que realizaran uno intermedio y avanzado muchisimas gracias</td>\n",
              "      <td>POSITIVO</td>\n",
              "    </tr>\n",
              "    <tr>\n",
              "      <th>12</th>\n",
              "      <td>me encanto esta todo muy bien explicado</td>\n",
              "      <td>POSITIVO</td>\n",
              "    </tr>\n",
              "    <tr>\n",
              "      <th>13</th>\n",
              "      <td>es muy util y con un ingles muy facil y accesible</td>\n",
              "      <td>POSITIVO</td>\n",
              "    </tr>\n",
              "    <tr>\n",
              "      <th>14</th>\n",
              "      <td>ensenanza completa y facil bien explicada</td>\n",
              "      <td>POSITIVO</td>\n",
              "    </tr>\n",
              "  </tbody>\n",
              "</table>\n",
              "</div>\n",
              "      <button class=\"colab-df-convert\" onclick=\"convertToInteractive('df-198677f2-8ceb-46fc-8fd7-29b3e8ed1483')\"\n",
              "              title=\"Convert this dataframe to an interactive table.\"\n",
              "              style=\"display:none;\">\n",
              "        \n",
              "  <svg xmlns=\"http://www.w3.org/2000/svg\" height=\"24px\"viewBox=\"0 0 24 24\"\n",
              "       width=\"24px\">\n",
              "    <path d=\"M0 0h24v24H0V0z\" fill=\"none\"/>\n",
              "    <path d=\"M18.56 5.44l.94 2.06.94-2.06 2.06-.94-2.06-.94-.94-2.06-.94 2.06-2.06.94zm-11 1L8.5 8.5l.94-2.06 2.06-.94-2.06-.94L8.5 2.5l-.94 2.06-2.06.94zm10 10l.94 2.06.94-2.06 2.06-.94-2.06-.94-.94-2.06-.94 2.06-2.06.94z\"/><path d=\"M17.41 7.96l-1.37-1.37c-.4-.4-.92-.59-1.43-.59-.52 0-1.04.2-1.43.59L10.3 9.45l-7.72 7.72c-.78.78-.78 2.05 0 2.83L4 21.41c.39.39.9.59 1.41.59.51 0 1.02-.2 1.41-.59l7.78-7.78 2.81-2.81c.8-.78.8-2.07 0-2.86zM5.41 20L4 18.59l7.72-7.72 1.47 1.35L5.41 20z\"/>\n",
              "  </svg>\n",
              "      </button>\n",
              "      \n",
              "  <style>\n",
              "    .colab-df-container {\n",
              "      display:flex;\n",
              "      flex-wrap:wrap;\n",
              "      gap: 12px;\n",
              "    }\n",
              "\n",
              "    .colab-df-convert {\n",
              "      background-color: #E8F0FE;\n",
              "      border: none;\n",
              "      border-radius: 50%;\n",
              "      cursor: pointer;\n",
              "      display: none;\n",
              "      fill: #1967D2;\n",
              "      height: 32px;\n",
              "      padding: 0 0 0 0;\n",
              "      width: 32px;\n",
              "    }\n",
              "\n",
              "    .colab-df-convert:hover {\n",
              "      background-color: #E2EBFA;\n",
              "      box-shadow: 0px 1px 2px rgba(60, 64, 67, 0.3), 0px 1px 3px 1px rgba(60, 64, 67, 0.15);\n",
              "      fill: #174EA6;\n",
              "    }\n",
              "\n",
              "    [theme=dark] .colab-df-convert {\n",
              "      background-color: #3B4455;\n",
              "      fill: #D2E3FC;\n",
              "    }\n",
              "\n",
              "    [theme=dark] .colab-df-convert:hover {\n",
              "      background-color: #434B5C;\n",
              "      box-shadow: 0px 1px 3px 1px rgba(0, 0, 0, 0.15);\n",
              "      filter: drop-shadow(0px 1px 2px rgba(0, 0, 0, 0.3));\n",
              "      fill: #FFFFFF;\n",
              "    }\n",
              "  </style>\n",
              "\n",
              "      <script>\n",
              "        const buttonEl =\n",
              "          document.querySelector('#df-198677f2-8ceb-46fc-8fd7-29b3e8ed1483 button.colab-df-convert');\n",
              "        buttonEl.style.display =\n",
              "          google.colab.kernel.accessAllowed ? 'block' : 'none';\n",
              "\n",
              "        async function convertToInteractive(key) {\n",
              "          const element = document.querySelector('#df-198677f2-8ceb-46fc-8fd7-29b3e8ed1483');\n",
              "          const dataTable =\n",
              "            await google.colab.kernel.invokeFunction('convertToInteractive',\n",
              "                                                     [key], {});\n",
              "          if (!dataTable) return;\n",
              "\n",
              "          const docLinkHtml = 'Like what you see? Visit the ' +\n",
              "            '<a target=\"_blank\" href=https://colab.research.google.com/notebooks/data_table.ipynb>data table notebook</a>'\n",
              "            + ' to learn more about interactive tables.';\n",
              "          element.innerHTML = '';\n",
              "          dataTable['output_type'] = 'display_data';\n",
              "          await google.colab.output.renderOutput(dataTable, element);\n",
              "          const docLink = document.createElement('div');\n",
              "          docLink.innerHTML = docLinkHtml;\n",
              "          element.appendChild(docLink);\n",
              "        }\n",
              "      </script>\n",
              "    </div>\n",
              "  </div>\n",
              "  "
            ],
            "text/plain": [
              "                                                                                                                                                                                                                                                                                                                                                                                                                                                                                                                                                                                                                                                                                                                                                                                                                                                                                                                                                              text  \\\n",
              "0   curso muy interesante en cuanto a contenido y en cuanto a desarrollo personal                                                                                                                                                                                                                                                                                                                                                                                                                                                                                                                                                                                                                                                                                                                                                                                                                                                                                    \n",
              "1   el mejor saludos desde panama                                                                                                                                                                                                                                                                                                                                                                                                                                                                                                                                                                                                                                                                                                                                                                                                                                                                                                                                    \n",
              "2   es estupenda la manera en que te ensenan muy didactico y claro le doy un                                                                                                                                                                                                                                                                                                                                                                                                                                                                                                                                                                                                                                                                                                                                                                                                                                                                                         \n",
              "3   me ha parecido un curso fantastico breve didactico y muy bien preparado¡felicidadesfrancisco eugenio                                                                                                                                                                                                                                                                                                                                                                                                                                                                                                                                                                                                                                                                                                                                                                                                                                                             \n",
              "4   primera replica bueno creo que falta organizar la ideas pero al menos se miro el video de forma rapida en saltos como de cierta forma se responde con alguna ideas bastantes cambios que presenta ofrece distintas fases cambiante e incluso alterable teorias cientificas flexibles que se permiten adaptar etc lo que no comprendo son las siguientes frases investigaciones beneficiosas y lucrativas para el crecimiento de estas ciencias ciencia complejo ingenioso conocimiento para pasar de algo antiguo a algo innovador la ciencia trata de preguntar constantemente el porque de las cosas completamente redimidas esto es inedito en seguir buscando y este siga siendo persistente considero que ademas no se revisa lo que pide la pregunta que al plano de relatar lo presenta el conferencista tambien cosiste en relatar la experiencia personal de la cual no ha y nada en esta primera replica                                               \n",
              "5   es muy claro que la pelicula es una recopilacion de hechos historicos en los cuales representan varios temas tratados en clase como la desviacion en la que un lider cambia su proposito o los medios manipulan la informacion para conveniencia se establece que la institucion es el estado que gobierna con unas leyes a conveniencia y lleva a un fanatismos con simbolizado con una imitacion por la esvastica utilizada por hitler por otro lado es un llamado a la revolucion necesaria asi conocida desde la revolucion francesa que se ha visto reflejada en muchas ocasiones con el fin de proteger una vez mas al pueblo oprimido y atacar el sistema que beneficia a unos cuantos en un punto de vista personal senti que esa pelicula solo cambio el contexto historico y llevo a las pantallas para demostrar el lema muy conocido el exceso del poder corrompe ya que aunque la idea de revolucion es necesaria no debe manejarse de esa forma    \n",
              "6   excelente curso muy enriquecedor                                                                                                                                                                                                                                                                                                                                                                                                                                                                                                                                                                                                                                                                                                                                                                                                                                                                                                                                 \n",
              "7   excelente curso todos los aplausos y felicitaciones para el docente excelente y explicito el material que nos brindo muy completo la verdad quedo mas que feliz y agradecida con el docente y la universidad                                                                                                                                                                                                                                                                                                                                                                                                                                                                                                                                                                                                                                                                                                                                                     \n",
              "8   excelente curso para aprender sobre el lenguaje de programacion python practico sencillo y muy bien estructurado                                                                                                                                                                                                                                                                                                                                                                                                                                                                                                                                                                                                                                                                                                                                                                                                                                                 \n",
              "9   excelente un verdadero manual de como usar el cerebro                                                                                                                                                                                                                                                                                                                                                                                                                                                                                                                                                                                                                                                                                                                                                                                                                                                                                                            \n",
              "10  conceptos clave para ayudar en el dia a dia de la gestion de personal con total seguridad                                                                                                                                                                                                                                                                                                                                                                                                                                                                                                                                                                                                                                                                                                                                                                                                                                                                        \n",
              "11  aprendi el alfabeto durante mi adolescencia despues de tantos anos decidi continuar con el aprendizaje y me siento muy satisfecha con este curso desearia que realizaran uno intermedio y avanzado muchisimas gracias                                                                                                                                                                                                                                                                                                                                                                                                                                                                                                                                                                                                                                                                                                                                            \n",
              "12  me encanto esta todo muy bien explicado                                                                                                                                                                                                                                                                                                                                                                                                                                                                                                                                                                                                                                                                                                                                                                                                                                                                                                                          \n",
              "13  es muy util y con un ingles muy facil y accesible                                                                                                                                                                                                                                                                                                                                                                                                                                                                                                                                                                                                                                                                                                                                                                                                                                                                                                                \n",
              "14  ensenanza completa y facil bien explicada                                                                                                                                                                                                                                                                                                                                                                                                                                                                                                                                                                                                                                                                                                                                                                                                                                                                                                                        \n",
              "\n",
              "   sentiment  \n",
              "0   POSITIVO  \n",
              "1   POSITIVO  \n",
              "2   POSITIVO  \n",
              "3   POSITIVO  \n",
              "4   POSITIVO  \n",
              "5   POSITIVO  \n",
              "6   POSITIVO  \n",
              "7   POSITIVO  \n",
              "8   POSITIVO  \n",
              "9   POSITIVO  \n",
              "10  POSITIVO  \n",
              "11  POSITIVO  \n",
              "12  POSITIVO  \n",
              "13  POSITIVO  \n",
              "14  POSITIVO  "
            ]
          },
          "metadata": {},
          "execution_count": 68
        }
      ],
      "source": [
        "train.head(15)"
      ]
    },
    {
      "cell_type": "code",
      "execution_count": null,
      "metadata": {
        "execution": {
          "iopub.execute_input": "2020-10-06T21:19:41.980569Z",
          "iopub.status.busy": "2020-10-06T21:19:41.979730Z",
          "iopub.status.idle": "2020-10-06T21:19:41.983566Z",
          "shell.execute_reply": "2020-10-06T21:19:41.983073Z"
        },
        "papermill": {
          "duration": 0.041264,
          "end_time": "2020-10-06T21:19:41.983666",
          "exception": false,
          "start_time": "2020-10-06T21:19:41.942402",
          "status": "completed"
        },
        "tags": [],
        "id": "yR2KCh_xezYn"
      },
      "outputs": [],
      "source": [
        "#Longitud del dataset\n",
        "len(train_data)\n",
        "#Etiquetas de sentimiento\n",
        "train['sentiment'].unique()\n",
        "#Distribucion de dataset\n",
        "train_data.groupby('sentiment').nunique()\n",
        "#Valores Nulos\n",
        "train[\"text\"].isnull().sum()\n",
        "train[\"text\"].fillna(\"No content\", inplace = True)"
      ]
    },
    {
      "cell_type": "markdown",
      "metadata": {
        "papermill": {
          "duration": 0.033994,
          "end_time": "2020-10-06T21:19:42.255666",
          "exception": false,
          "start_time": "2020-10-06T21:19:42.221672",
          "status": "completed"
        },
        "tags": [],
        "id": "v7sAj1EIezYp"
      },
      "source": [
        "Funciones para limpieza de Texto"
      ]
    },
    {
      "cell_type": "code",
      "source": [
        "#Funciones para limpiar el texto\n",
        "#!pip install spacy\n",
        "#!python -m spacy download es_core_news_sm\n",
        "\n",
        "stop_words =stopwords.words('spanish')\n",
        "stop_words.extend(['si', 'tambien', 'asi', 'debe', 'tener','cada','ademas','parte','ser','ma','mismo','mas'])  \n",
        "\n",
        "#Funcion para remover tags html\n",
        "def html_remover(data):\n",
        "  beauti = BeautifulSoup(data,'html.parser')\n",
        "  return beauti.get_text()\n",
        "\n",
        "#Funcion para Remover URLs\n",
        "def url_remover(data):\n",
        "  return re.sub(r'https\\S','',data)\n",
        "\n",
        "def clean_text(text):\n",
        "  #Convertir a minúsculas\n",
        "  text = text.lower()\n",
        "  #LLamar funciones para remover html y urls\n",
        "  text= html_remover(text)\n",
        "  text = url_remover(text) \n",
        "  #Eliminar texto entre corchetes, signos de puntuacion,numeros,espacios en blanco, emails\n",
        "  text = re.sub('\\[.*?¿\\]\\%', '', text)\n",
        "  text = re.sub('[%s]' % re.escape(string.punctuation), '', text)\n",
        "  text = re.sub('\\w*\\d\\w*', '', text)\n",
        "  text = re.sub('[‘’“”…«»]', '', text)\n",
        "  text = re.sub('\\n','', text)\n",
        "  text = re.sub('\\S*@\\S*\\s?', '', text)\n",
        "  text = re.sub('\\s+', ' ', text)\n",
        "  text = re.sub(\"\\'\", \"\", text)\n",
        "\n",
        "  text=text.strip()\n",
        "\n",
        "  #Eliminar tildes y diacriticas\n",
        "  text = re.sub('á', 'a', text)\n",
        "  text = re.sub('é', 'e', text)\n",
        "  text = re.sub('í', 'i', text)\n",
        "  text = re.sub('ó', 'o', text)\n",
        "  text = re.sub('ú', 'u', text)\n",
        "  text = re.sub('ü', 'u', text)\n",
        "  text = re.sub('ñ', 'n', text)\n",
        "  text = re.sub('¿', '', text)\n",
        "  text = re.sub('¡', '', text)\n",
        "  text = re.sub('!', '', text)\n",
        "\n",
        "  return text\n",
        "\n",
        "#Funcion para convertir tokens en una oracion\n",
        "def detokenize(text):\n",
        "    return TreebankWordDetokenizer().detokenize(text)\n",
        "\n",
        "#Tokenizar y remover stop words\n",
        "def sent_to_words(sentences):\n",
        "    for sentence in sentences:\n",
        "        text=gensim.utils.simple_preprocess(str(sentence), deacc=True)\n",
        "        text = [word for word in text if word not in stop_words]      \n",
        "        yield(text)"
      ],
      "metadata": {
        "id": "KQVBvm_Cc50H"
      },
      "execution_count": null,
      "outputs": []
    },
    {
      "cell_type": "markdown",
      "source": [
        "Grabar los datos en una lista temporal para ejecutar funciones de limpieza de texto y tokenizar eliminando palabras vacias"
      ],
      "metadata": {
        "id": "7rbwbQBxgAo_"
      }
    },
    {
      "cell_type": "code",
      "execution_count": null,
      "metadata": {
        "execution": {
          "iopub.execute_input": "2020-10-06T21:19:42.742866Z",
          "iopub.status.busy": "2020-10-06T21:19:42.737799Z",
          "iopub.status.idle": "2020-10-06T21:19:43.099846Z",
          "shell.execute_reply": "2020-10-06T21:19:43.100317Z"
        },
        "papermill": {
          "duration": 0.411166,
          "end_time": "2020-10-06T21:19:43.100446",
          "exception": false,
          "start_time": "2020-10-06T21:19:42.689280",
          "status": "completed"
        },
        "tags": [],
        "id": "d4O0nt2NezYs"
      },
      "outputs": [],
      "source": [
        "temp = []\n",
        "\n",
        "data_to_list = train['text'].values.tolist()\n",
        "\n",
        "for i in range(len(data_to_list)):\n",
        "   temp.append(clean_text(data_to_list[i]))\n",
        "\n",
        "data_words = list(sent_to_words(temp))\n"
      ]
    },
    {
      "cell_type": "code",
      "source": [
        "print(data_words[:10])"
      ],
      "metadata": {
        "colab": {
          "base_uri": "https://localhost:8080/"
        },
        "id": "hhXpuEKixe6B",
        "outputId": "449d070a-826b-4e42-c1c3-9472d0c3cbe1"
      },
      "execution_count": null,
      "outputs": [
        {
          "output_type": "stream",
          "name": "stdout",
          "text": [
            "[['curso', 'interesante', 'cuanto', 'contenido', 'cuanto', 'desarrollo', 'personal'], ['mejor', 'saludos', 'panama'], ['estupenda', 'manera', 'ensenan', 'didactico', 'claro', 'doy'], ['parecido', 'curso', 'fantastico', 'breve', 'didactico', 'bien', 'eugenio'], ['primera', 'replica', 'bueno', 'creo', 'falta', 'organizar', 'ideas', 'menos', 'miro', 'video', 'forma', 'rapida', 'saltos', 'cierta', 'forma', 'responde', 'alguna', 'ideas', 'bastantes', 'cambios', 'presenta', 'ofrece', 'distintas', 'fases', 'cambiante', 'incluso', 'alterable', 'teorias', 'cientificas', 'flexibles', 'permiten', 'adaptar', 'etc', 'comprendo', 'siguientes', 'frases', 'investigaciones', 'beneficiosas', 'lucrativas', 'crecimiento', 'ciencias', 'ciencia', 'complejo', 'ingenioso', 'conocimiento', 'pasar', 'antiguo', 'innovador', 'ciencia', 'trata', 'preguntar', 'constantemente', 'cosas', 'completamente', 'redimidas', 'inedito', 'seguir', 'buscando', 'siga', 'siendo', 'persistente', 'considero', 'revisa', 'pide', 'pregunta', 'plano', 'relatar', 'presenta', 'conferencista', 'cosiste', 'relatar', 'experiencia', 'personal', 'primera', 'replica'], ['claro', 'pelicula', 'recopilacion', 'hechos', 'historicos', 'cuales', 'representan', 'varios', 'temas', 'tratados', 'clase', 'desviacion', 'lider', 'cambia', 'proposito', 'medios', 'manipulan', 'informacion', 'conveniencia', 'establece', 'institucion', 'gobierna', 'unas', 'leyes', 'conveniencia', 'lleva', 'fanatismos', 'simbolizado', 'imitacion', 'esvastica', 'utilizada', 'hitler', 'lado', 'llamado', 'revolucion', 'necesaria', 'conocida', 'revolucion', 'francesa', 'visto', 'reflejada', 'muchas', 'ocasiones', 'fin', 'proteger', 'vez', 'pueblo', 'oprimido', 'atacar', 'sistema', 'beneficia', 'cuantos', 'punto', 'vista', 'personal', 'senti', 'pelicula', 'solo', 'cambio', 'contexto', 'historico', 'llevo', 'pantallas', 'demostrar', 'lema', 'conocido', 'exceso', 'poder', 'corrompe', 'aunque', 'idea', 'revolucion', 'necesaria', 'manejarse', 'forma'], ['excelente', 'curso', 'enriquecedor'], ['excelente', 'curso', 'aplausos', 'felicitaciones', 'docente', 'excelente', 'explicito', 'material', 'brindo', 'completo', 'verdad', 'quedo', 'feliz', 'agradecida', 'docente', 'universidad'], ['excelente', 'curso', 'aprender', 'lenguaje', 'programacion', 'python', 'practico', 'sencillo', 'bien', 'estructurado'], ['excelente', 'verdadero', 'manual', 'usar', 'cerebro']]\n"
          ]
        }
      ]
    },
    {
      "cell_type": "code",
      "execution_count": null,
      "metadata": {
        "execution": {
          "iopub.execute_input": "2020-10-06T21:19:44.561022Z",
          "iopub.status.busy": "2020-10-06T21:19:44.550825Z",
          "iopub.status.idle": "2020-10-06T21:19:47.831584Z",
          "shell.execute_reply": "2020-10-06T21:19:47.832620Z"
        },
        "papermill": {
          "duration": 3.326682,
          "end_time": "2020-10-06T21:19:47.832800",
          "exception": false,
          "start_time": "2020-10-06T21:19:44.506118",
          "status": "completed"
        },
        "tags": [],
        "colab": {
          "base_uri": "https://localhost:8080/"
        },
        "id": "dGmEqfS0ezYu",
        "outputId": "068c987a-d2c8-4d95-af5c-9dde7db7ef32"
      },
      "outputs": [
        {
          "output_type": "stream",
          "name": "stdout",
          "text": [
            "['curso interesante cuanto contenido cuanto desarrollo personal', 'mejor saludos panama', 'estupenda manera ensenan didactico claro doy', 'parecido curso fantastico breve didactico bien eugenio', 'primera replica bueno creo falta organizar ideas menos miro video forma rapida saltos cierta forma responde alguna ideas bastantes cambios presenta ofrece distintas fases cambiante incluso alterable teorias cientificas flexibles permiten adaptar etc comprendo siguientes frases investigaciones beneficiosas lucrativas crecimiento ciencias ciencia complejo ingenioso conocimiento pasar antiguo innovador ciencia trata preguntar constantemente cosas completamente redimidas inedito seguir buscando siga siendo persistente considero revisa pide pregunta plano relatar presenta conferencista cosiste relatar experiencia personal primera replica']\n"
          ]
        }
      ],
      "source": [
        "data = []\n",
        "for i in range(len(data_words)):\n",
        "    data.append(detokenize(data_words[i]))\n",
        "print(data[:5])"
      ]
    },
    {
      "cell_type": "markdown",
      "source": [
        "Convertir lista de textos en un array "
      ],
      "metadata": {
        "id": "dMlfwky-8XZC"
      }
    },
    {
      "cell_type": "code",
      "execution_count": null,
      "metadata": {
        "execution": {
          "iopub.execute_input": "2020-10-06T21:19:47.936780Z",
          "iopub.status.busy": "2020-10-06T21:19:47.934885Z",
          "iopub.status.idle": "2020-10-06T21:19:47.937552Z",
          "shell.execute_reply": "2020-10-06T21:19:47.938090Z"
        },
        "papermill": {
          "duration": 0.06542,
          "end_time": "2020-10-06T21:19:47.938217",
          "exception": false,
          "start_time": "2020-10-06T21:19:47.872797",
          "status": "completed"
        },
        "tags": [],
        "id": "uZ7yebWYezYu",
        "colab": {
          "base_uri": "https://localhost:8080/"
        },
        "outputId": "9a96f4b9-6613-4b2d-e40a-77ba0d27398e"
      },
      "outputs": [
        {
          "output_type": "stream",
          "name": "stdout",
          "text": [
            "['curso interesante cuanto contenido cuanto desarrollo personal'\n",
            " 'mejor saludos panama' 'estupenda manera ensenan didactico claro doy' ...\n",
            " 'nombre johny fernando licenciado trabajo docente colegio san fracisco javier expectativas frente seminario servir mejor'\n",
            " 'acuerdo expuesto companero incumplimiento objeto obra contratista ver decisiones interventoria aprobar rechazar misma interventoria cumple papel consecuencias nefastas ejecucion obra tal mira proyecto mencion'\n",
            " 'vida bien fisica mentalmente alcanzar metas propuesto diario vivir pasando situaciones ocasiones problematicas llevaderas segura desvio positivo quiero dar vida podre solucionar dejar lado felicidad homeostasis fisica mental buena hija hermana nieta amiga persona hacerlo siempre dado paz tranquilidad cierto modo sabiduria vida significa significaba naci simplemente mundo ahora vida empieza dar vuelco diferente imagine nina ahora cosas hago buenas malas repercuten vida ende vida rodean ello puedo decir proposito alcanzar mejor ayer refiero exigirme misma meta logre alcanzar superarla dia llegar sonado hara feliz exitosa partir autobiografia mision personal compromiso llena valores etico mundo viviendo ocasiones tan fructifero puede hacerlo mundo vales produces entonces actuas determinada situacion eticamente ello puedes satisfacer deseo persona simplemente sirves sabes contrario dices persona quiere escuchar ayudas tal pide aunque estes actuando principios contrataran pagaran mejor marginaran etica dia importante espacios trabajo ambicion clandestinidad convertido profesionales presos propias decisiones desafios ambito personal considero importante etica interior personas actuar forma correcta siempre dejar huella marcar diferencia forma positiva desafios ambito familiar etica manifestar momento lugar acciones pequenos detalles cuentan comportamiento correcto desafios ambito profesional profesionales futuros profesionales debemos demostrar etica sustancial proceder laboral credibilidad da etica profesionales compra ningun lugar requiere arduo trabajo toda vida']\n"
          ]
        }
      ],
      "source": [
        "data = np.array(data)\n",
        "print(data)"
      ]
    },
    {
      "cell_type": "markdown",
      "metadata": {
        "papermill": {
          "duration": 0.037183,
          "end_time": "2020-10-06T21:19:48.013459",
          "exception": false,
          "start_time": "2020-10-06T21:19:47.976276",
          "status": "completed"
        },
        "tags": [],
        "id": "FFU1SVJfezYu"
      },
      "source": [
        "Codificar las etiquetas"
      ]
    },
    {
      "cell_type": "code",
      "execution_count": null,
      "metadata": {
        "execution": {
          "iopub.execute_input": "2020-10-06T21:19:48.122784Z",
          "iopub.status.busy": "2020-10-06T21:19:48.121518Z",
          "iopub.status.idle": "2020-10-06T21:19:48.125042Z",
          "shell.execute_reply": "2020-10-06T21:19:48.125481Z"
        },
        "papermill": {
          "duration": 0.074223,
          "end_time": "2020-10-06T21:19:48.125627",
          "exception": false,
          "start_time": "2020-10-06T21:19:48.051404",
          "status": "completed"
        },
        "tags": [],
        "id": "mxVA8eAGezYu"
      },
      "outputs": [],
      "source": [
        "labels = np.array(train['sentiment'])\n",
        "y = []\n",
        "for i in range(len(labels)):\n",
        "    if labels[i] == 'NEUTRAL':\n",
        "        y.append(0)\n",
        "    if labels[i] == 'NEGATIVO':\n",
        "        y.append(1)\n",
        "    if labels[i] == 'POSITIVO':\n",
        "        y.append(2)\n",
        "y = np.array(y)\n",
        "labels = tf.keras.utils.to_categorical(y, 3, dtype=\"float32\")\n",
        "del y"
      ]
    },
    {
      "cell_type": "markdown",
      "metadata": {
        "papermill": {
          "duration": 0.038298,
          "end_time": "2020-10-06T21:19:48.287312",
          "exception": false,
          "start_time": "2020-10-06T21:19:48.249014",
          "status": "completed"
        },
        "tags": [],
        "id": "KbIVBBooezYv"
      },
      "source": [
        "# Transformacion de datos a vectores para entrada a la red neuronal"
      ]
    },
    {
      "cell_type": "code",
      "execution_count": null,
      "metadata": {
        "execution": {
          "iopub.execute_input": "2020-10-06T21:19:48.373707Z",
          "iopub.status.busy": "2020-10-06T21:19:48.372469Z",
          "iopub.status.idle": "2020-10-06T21:19:49.386819Z",
          "shell.execute_reply": "2020-10-06T21:19:49.387562Z"
        },
        "papermill": {
          "duration": 1.062302,
          "end_time": "2020-10-06T21:19:49.387739",
          "exception": false,
          "start_time": "2020-10-06T21:19:48.325437",
          "status": "completed"
        },
        "tags": [],
        "colab": {
          "base_uri": "https://localhost:8080/"
        },
        "id": "WmQWE01CezYv",
        "outputId": "bee441d4-5356-4276-bce3-a8cf4c499ae3"
      },
      "outputs": [
        {
          "output_type": "stream",
          "name": "stdout",
          "text": [
            "curso interesante cuanto contenido cuanto desarrollo personal\n",
            "[[   0    0    0 ...   78   20   62]\n",
            " [   0    0    0 ...    0   30 1435]\n",
            " [   0    0    0 ...  893  134 2729]\n",
            " ...\n",
            " [   0    0    0 ...  107 1358   30]\n",
            " [   0    0    0 ... 1930  135 2934]\n",
            " [   0    0    0 ...    7  162    4]]\n"
          ]
        }
      ],
      "source": [
        "from keras.models import Sequential\n",
        "from keras import layers\n",
        "from tensorflow.keras.optimizers import Adam\n",
        "from keras.preprocessing.text import Tokenizer\n",
        "from keras.preprocessing.sequence import pad_sequences\n",
        "from keras import regularizers\n",
        "from keras import backend as K\n",
        "import pickle\n",
        "from keras.callbacks import ModelCheckpoint\n",
        "\n",
        "max_words = 5000\n",
        "max_len = 200\n",
        "\n",
        "tokenizer = Tokenizer(num_words=max_words)\n",
        "tokenizer.fit_on_texts(data)\n",
        "sequences = tokenizer.texts_to_sequences(data)\n",
        "tweets = pad_sequences(sequences, maxlen=max_len)\n",
        "print(data[0])\n",
        "print(tweets)\n",
        "\n",
        "import pickle\n",
        "\n",
        "#Guardar tokenizador\n",
        "with open('tokenizer.pickle', 'wb') as handle:\n",
        "    pickle.dump(tokenizer, handle, protocol=pickle.HIGHEST_PROTOCOL)"
      ]
    },
    {
      "cell_type": "code",
      "execution_count": null,
      "metadata": {
        "execution": {
          "iopub.execute_input": "2020-10-06T21:19:49.478734Z",
          "iopub.status.busy": "2020-10-06T21:19:49.477823Z",
          "iopub.status.idle": "2020-10-06T21:19:49.482217Z",
          "shell.execute_reply": "2020-10-06T21:19:49.483329Z"
        },
        "papermill": {
          "duration": 0.054099,
          "end_time": "2020-10-06T21:19:49.483550",
          "exception": false,
          "start_time": "2020-10-06T21:19:49.429451",
          "status": "completed"
        },
        "tags": [],
        "colab": {
          "base_uri": "https://localhost:8080/"
        },
        "id": "_H2DauvoezYv",
        "outputId": "52b24c4d-082b-4388-a955-6e7b95930557"
      },
      "outputs": [
        {
          "output_type": "stream",
          "name": "stdout",
          "text": [
            "[[0. 0. 1.]\n",
            " [0. 0. 1.]\n",
            " [0. 0. 1.]\n",
            " ...\n",
            " [1. 0. 0.]\n",
            " [1. 0. 0.]\n",
            " [1. 0. 0.]]\n"
          ]
        }
      ],
      "source": [
        "print(labels)"
      ]
    },
    {
      "cell_type": "markdown",
      "source": [
        "Dividir los datos para entrenamiento y test"
      ],
      "metadata": {
        "id": "F_fPojG1ABWD"
      }
    },
    {
      "cell_type": "code",
      "execution_count": null,
      "metadata": {
        "execution": {
          "iopub.execute_input": "2020-10-06T21:19:49.585814Z",
          "iopub.status.busy": "2020-10-06T21:19:49.584576Z",
          "iopub.status.idle": "2020-10-06T21:19:49.600360Z",
          "shell.execute_reply": "2020-10-06T21:19:49.601002Z"
        },
        "papermill": {
          "duration": 0.069178,
          "end_time": "2020-10-06T21:19:49.601136",
          "exception": false,
          "start_time": "2020-10-06T21:19:49.531958",
          "status": "completed"
        },
        "tags": [],
        "colab": {
          "base_uri": "https://localhost:8080/"
        },
        "id": "Nt6eHCgfezYv",
        "outputId": "e130ba70-3ab8-4e24-c2a8-7c8843220bcc"
      },
      "outputs": [
        {
          "output_type": "stream",
          "name": "stdout",
          "text": [
            "7245 2415 7245 2415\n"
          ]
        }
      ],
      "source": [
        "\n",
        "X_train, X_test, y_train, y_test = train_test_split(tweets,labels, random_state=0)\n",
        "print (len(X_train),len(X_test),len(y_train),len(y_test))"
      ]
    },
    {
      "cell_type": "markdown",
      "metadata": {
        "papermill": {
          "duration": 0.044937,
          "end_time": "2020-10-06T21:19:49.968644",
          "exception": false,
          "start_time": "2020-10-06T21:19:49.923707",
          "status": "completed"
        },
        "tags": [],
        "id": "v5398cRFezYw"
      },
      "source": [
        "# Modelado de la Red Neuronal"
      ]
    },
    {
      "cell_type": "code",
      "execution_count": null,
      "metadata": {
        "execution": {
          "iopub.execute_input": "2020-10-06T21:19:50.068632Z",
          "iopub.status.busy": "2020-10-06T21:19:50.067909Z",
          "iopub.status.idle": "2020-10-06T21:30:02.803265Z",
          "shell.execute_reply": "2020-10-06T21:30:02.805203Z"
        },
        "papermill": {
          "duration": 612.793273,
          "end_time": "2020-10-06T21:30:02.806611",
          "exception": false,
          "start_time": "2020-10-06T21:19:50.013338",
          "status": "completed"
        },
        "tags": [],
        "colab": {
          "base_uri": "https://localhost:8080/"
        },
        "id": "W3Ih6qmoezYw",
        "outputId": "661fbfc8-7b6c-4db4-e416-929c71773795"
      },
      "outputs": [
        {
          "output_type": "stream",
          "name": "stdout",
          "text": [
            "WARNING:tensorflow:`period` argument is deprecated. Please use `save_freq` to specify the frequency in number of batches seen.\n",
            "Epoch 1/70\n",
            "227/227 [==============================] - ETA: 0s - loss: 0.9697 - accuracy: 0.5162\n",
            "Epoch 1: val_accuracy improved from -inf to 0.65217, saving model to best_model1.hdf5\n",
            "227/227 [==============================] - 23s 89ms/step - loss: 0.9697 - accuracy: 0.5162 - val_loss: 0.8127 - val_accuracy: 0.6522\n",
            "Epoch 2/70\n",
            "227/227 [==============================] - ETA: 0s - loss: 0.7707 - accuracy: 0.6629\n",
            "Epoch 2: val_accuracy improved from 0.65217 to 0.67536, saving model to best_model1.hdf5\n",
            "227/227 [==============================] - 19s 85ms/step - loss: 0.7707 - accuracy: 0.6629 - val_loss: 0.7431 - val_accuracy: 0.6754\n",
            "Epoch 3/70\n",
            "227/227 [==============================] - ETA: 0s - loss: 0.7115 - accuracy: 0.6883\n",
            "Epoch 3: val_accuracy improved from 0.67536 to 0.69482, saving model to best_model1.hdf5\n",
            "227/227 [==============================] - 19s 84ms/step - loss: 0.7115 - accuracy: 0.6883 - val_loss: 0.7094 - val_accuracy: 0.6948\n",
            "Epoch 4/70\n",
            "227/227 [==============================] - ETA: 0s - loss: 0.6434 - accuracy: 0.7347\n",
            "Epoch 4: val_accuracy improved from 0.69482 to 0.72133, saving model to best_model1.hdf5\n",
            "227/227 [==============================] - 19s 83ms/step - loss: 0.6434 - accuracy: 0.7347 - val_loss: 0.6760 - val_accuracy: 0.7213\n",
            "Epoch 5/70\n",
            "227/227 [==============================] - ETA: 0s - loss: 0.5836 - accuracy: 0.7721\n",
            "Epoch 5: val_accuracy improved from 0.72133 to 0.73168, saving model to best_model1.hdf5\n",
            "227/227 [==============================] - 19s 83ms/step - loss: 0.5836 - accuracy: 0.7721 - val_loss: 0.6642 - val_accuracy: 0.7317\n",
            "Epoch 6/70\n",
            "227/227 [==============================] - ETA: 0s - loss: 0.5324 - accuracy: 0.7941\n",
            "Epoch 6: val_accuracy did not improve from 0.73168\n",
            "227/227 [==============================] - 20s 86ms/step - loss: 0.5324 - accuracy: 0.7941 - val_loss: 0.7663 - val_accuracy: 0.6911\n",
            "Epoch 7/70\n",
            "227/227 [==============================] - ETA: 0s - loss: 0.4930 - accuracy: 0.8153\n",
            "Epoch 7: val_accuracy improved from 0.73168 to 0.74990, saving model to best_model1.hdf5\n",
            "227/227 [==============================] - 19s 83ms/step - loss: 0.4930 - accuracy: 0.8153 - val_loss: 0.6662 - val_accuracy: 0.7499\n",
            "Epoch 8/70\n",
            "227/227 [==============================] - ETA: 0s - loss: 0.4681 - accuracy: 0.8282\n",
            "Epoch 8: val_accuracy improved from 0.74990 to 0.75280, saving model to best_model1.hdf5\n",
            "227/227 [==============================] - 19s 84ms/step - loss: 0.4681 - accuracy: 0.8282 - val_loss: 0.6752 - val_accuracy: 0.7528\n",
            "Epoch 9/70\n",
            "227/227 [==============================] - ETA: 0s - loss: 0.4444 - accuracy: 0.8385\n",
            "Epoch 9: val_accuracy did not improve from 0.75280\n",
            "227/227 [==============================] - 19s 83ms/step - loss: 0.4444 - accuracy: 0.8385 - val_loss: 0.6712 - val_accuracy: 0.7482\n",
            "Epoch 10/70\n",
            "227/227 [==============================] - ETA: 0s - loss: 0.4214 - accuracy: 0.8507\n",
            "Epoch 10: val_accuracy did not improve from 0.75280\n",
            "227/227 [==============================] - 19s 83ms/step - loss: 0.4214 - accuracy: 0.8507 - val_loss: 0.6834 - val_accuracy: 0.7528\n",
            "Epoch 11/70\n",
            "227/227 [==============================] - ETA: 0s - loss: 0.3995 - accuracy: 0.8585\n",
            "Epoch 11: val_accuracy did not improve from 0.75280\n",
            "227/227 [==============================] - 19s 83ms/step - loss: 0.3995 - accuracy: 0.8585 - val_loss: 0.7278 - val_accuracy: 0.7404\n",
            "Epoch 12/70\n",
            "227/227 [==============================] - ETA: 0s - loss: 0.3898 - accuracy: 0.8640\n",
            "Epoch 12: val_accuracy did not improve from 0.75280\n",
            "227/227 [==============================] - 19s 83ms/step - loss: 0.3898 - accuracy: 0.8640 - val_loss: 0.6993 - val_accuracy: 0.7520\n",
            "Epoch 13/70\n",
            "227/227 [==============================] - ETA: 0s - loss: 0.3716 - accuracy: 0.8674\n",
            "Epoch 13: val_accuracy did not improve from 0.75280\n",
            "227/227 [==============================] - 19s 83ms/step - loss: 0.3716 - accuracy: 0.8674 - val_loss: 0.7143 - val_accuracy: 0.7478\n",
            "Epoch 14/70\n",
            "227/227 [==============================] - ETA: 0s - loss: 0.3523 - accuracy: 0.8755\n",
            "Epoch 14: val_accuracy improved from 0.75280 to 0.75445, saving model to best_model1.hdf5\n",
            "227/227 [==============================] - 19s 84ms/step - loss: 0.3523 - accuracy: 0.8755 - val_loss: 0.7539 - val_accuracy: 0.7545\n",
            "Epoch 15/70\n",
            "227/227 [==============================] - ETA: 0s - loss: 0.3546 - accuracy: 0.8762\n",
            "Epoch 15: val_accuracy improved from 0.75445 to 0.75983, saving model to best_model1.hdf5\n",
            "227/227 [==============================] - 26s 113ms/step - loss: 0.3546 - accuracy: 0.8762 - val_loss: 0.7124 - val_accuracy: 0.7598\n",
            "Epoch 16/70\n",
            "227/227 [==============================] - ETA: 0s - loss: 0.3451 - accuracy: 0.8776\n",
            "Epoch 16: val_accuracy did not improve from 0.75983\n",
            "227/227 [==============================] - 21s 91ms/step - loss: 0.3451 - accuracy: 0.8776 - val_loss: 0.7229 - val_accuracy: 0.7540\n",
            "Epoch 17/70\n",
            "227/227 [==============================] - ETA: 0s - loss: 0.3376 - accuracy: 0.8788\n",
            "Epoch 17: val_accuracy did not improve from 0.75983\n",
            "227/227 [==============================] - 19s 83ms/step - loss: 0.3376 - accuracy: 0.8788 - val_loss: 0.7366 - val_accuracy: 0.7557\n",
            "Epoch 18/70\n",
            "227/227 [==============================] - ETA: 0s - loss: 0.3228 - accuracy: 0.8853\n",
            "Epoch 18: val_accuracy improved from 0.75983 to 0.76108, saving model to best_model1.hdf5\n",
            "227/227 [==============================] - 23s 102ms/step - loss: 0.3228 - accuracy: 0.8853 - val_loss: 0.7484 - val_accuracy: 0.7611\n",
            "Epoch 19/70\n",
            "227/227 [==============================] - ETA: 0s - loss: 0.3252 - accuracy: 0.8842\n",
            "Epoch 19: val_accuracy did not improve from 0.76108\n",
            "227/227 [==============================] - 21s 92ms/step - loss: 0.3252 - accuracy: 0.8842 - val_loss: 0.7238 - val_accuracy: 0.7586\n",
            "Epoch 20/70\n",
            "227/227 [==============================] - ETA: 0s - loss: 0.3140 - accuracy: 0.8886\n",
            "Epoch 20: val_accuracy improved from 0.76108 to 0.76232, saving model to best_model1.hdf5\n",
            "227/227 [==============================] - 23s 103ms/step - loss: 0.3140 - accuracy: 0.8886 - val_loss: 0.7594 - val_accuracy: 0.7623\n",
            "Epoch 21/70\n",
            "227/227 [==============================] - ETA: 0s - loss: 0.3100 - accuracy: 0.8859\n",
            "Epoch 21: val_accuracy did not improve from 0.76232\n",
            "227/227 [==============================] - 19s 86ms/step - loss: 0.3100 - accuracy: 0.8859 - val_loss: 0.7561 - val_accuracy: 0.7598\n",
            "Epoch 22/70\n",
            "227/227 [==============================] - ETA: 0s - loss: 0.3008 - accuracy: 0.8941\n",
            "Epoch 22: val_accuracy improved from 0.76232 to 0.76729, saving model to best_model1.hdf5\n",
            "227/227 [==============================] - 20s 87ms/step - loss: 0.3008 - accuracy: 0.8941 - val_loss: 0.7431 - val_accuracy: 0.7673\n",
            "Epoch 23/70\n",
            "227/227 [==============================] - ETA: 0s - loss: 0.2946 - accuracy: 0.8944\n",
            "Epoch 23: val_accuracy did not improve from 0.76729\n",
            "227/227 [==============================] - 19s 85ms/step - loss: 0.2946 - accuracy: 0.8944 - val_loss: 0.7159 - val_accuracy: 0.7569\n",
            "Epoch 24/70\n",
            "227/227 [==============================] - ETA: 0s - loss: 0.3009 - accuracy: 0.8945\n",
            "Epoch 24: val_accuracy did not improve from 0.76729\n",
            "227/227 [==============================] - 21s 94ms/step - loss: 0.3009 - accuracy: 0.8945 - val_loss: 0.7305 - val_accuracy: 0.7636\n",
            "Epoch 25/70\n",
            "227/227 [==============================] - ETA: 0s - loss: 0.2796 - accuracy: 0.9012\n",
            "Epoch 25: val_accuracy did not improve from 0.76729\n",
            "227/227 [==============================] - 19s 86ms/step - loss: 0.2796 - accuracy: 0.9012 - val_loss: 0.7444 - val_accuracy: 0.7627\n",
            "Epoch 26/70\n",
            "227/227 [==============================] - ETA: 0s - loss: 0.2842 - accuracy: 0.8997\n",
            "Epoch 26: val_accuracy did not improve from 0.76729\n",
            "227/227 [==============================] - 20s 90ms/step - loss: 0.2842 - accuracy: 0.8997 - val_loss: 0.7907 - val_accuracy: 0.7540\n",
            "Epoch 27/70\n",
            "227/227 [==============================] - ETA: 0s - loss: 0.2776 - accuracy: 0.8977\n",
            "Epoch 27: val_accuracy did not improve from 0.76729\n",
            "227/227 [==============================] - 19s 86ms/step - loss: 0.2776 - accuracy: 0.8977 - val_loss: 0.7782 - val_accuracy: 0.7482\n",
            "Epoch 28/70\n",
            "227/227 [==============================] - ETA: 0s - loss: 0.2772 - accuracy: 0.9008\n",
            "Epoch 28: val_accuracy improved from 0.76729 to 0.76770, saving model to best_model1.hdf5\n",
            "227/227 [==============================] - 19s 86ms/step - loss: 0.2772 - accuracy: 0.9008 - val_loss: 0.7456 - val_accuracy: 0.7677\n",
            "Epoch 29/70\n",
            "227/227 [==============================] - ETA: 0s - loss: 0.2715 - accuracy: 0.9049\n",
            "Epoch 29: val_accuracy did not improve from 0.76770\n",
            "227/227 [==============================] - 19s 86ms/step - loss: 0.2715 - accuracy: 0.9049 - val_loss: 0.7682 - val_accuracy: 0.7578\n",
            "Epoch 30/70\n",
            "227/227 [==============================] - ETA: 0s - loss: 0.2664 - accuracy: 0.9066\n",
            "Epoch 30: val_accuracy did not improve from 0.76770\n",
            "227/227 [==============================] - 20s 88ms/step - loss: 0.2664 - accuracy: 0.9066 - val_loss: 0.7636 - val_accuracy: 0.7590\n",
            "Epoch 31/70\n",
            "227/227 [==============================] - ETA: 0s - loss: 0.2585 - accuracy: 0.9056\n",
            "Epoch 31: val_accuracy did not improve from 0.76770\n",
            "227/227 [==============================] - 19s 84ms/step - loss: 0.2585 - accuracy: 0.9056 - val_loss: 0.7473 - val_accuracy: 0.7602\n",
            "Epoch 32/70\n",
            "227/227 [==============================] - ETA: 0s - loss: 0.2574 - accuracy: 0.9093\n",
            "Epoch 32: val_accuracy did not improve from 0.76770\n",
            "227/227 [==============================] - 19s 85ms/step - loss: 0.2574 - accuracy: 0.9093 - val_loss: 0.7888 - val_accuracy: 0.7615\n",
            "Epoch 33/70\n",
            "227/227 [==============================] - ETA: 0s - loss: 0.2616 - accuracy: 0.9043\n",
            "Epoch 33: val_accuracy did not improve from 0.76770\n",
            "227/227 [==============================] - 19s 85ms/step - loss: 0.2616 - accuracy: 0.9043 - val_loss: 0.8129 - val_accuracy: 0.7673\n",
            "Epoch 34/70\n",
            "227/227 [==============================] - ETA: 0s - loss: 0.2500 - accuracy: 0.9136\n",
            "Epoch 34: val_accuracy did not improve from 0.76770\n",
            "227/227 [==============================] - 19s 85ms/step - loss: 0.2500 - accuracy: 0.9136 - val_loss: 0.7774 - val_accuracy: 0.7582\n",
            "Epoch 35/70\n",
            "227/227 [==============================] - ETA: 0s - loss: 0.2430 - accuracy: 0.9110\n",
            "Epoch 35: val_accuracy improved from 0.76770 to 0.77723, saving model to best_model1.hdf5\n",
            "227/227 [==============================] - 19s 85ms/step - loss: 0.2430 - accuracy: 0.9110 - val_loss: 0.8086 - val_accuracy: 0.7772\n",
            "Epoch 36/70\n",
            "227/227 [==============================] - ETA: 0s - loss: 0.2522 - accuracy: 0.9095\n",
            "Epoch 36: val_accuracy did not improve from 0.77723\n",
            "227/227 [==============================] - 19s 85ms/step - loss: 0.2522 - accuracy: 0.9095 - val_loss: 0.7943 - val_accuracy: 0.7590\n",
            "Epoch 37/70\n",
            "227/227 [==============================] - ETA: 0s - loss: 0.2456 - accuracy: 0.9125\n",
            "Epoch 37: val_accuracy did not improve from 0.77723\n",
            "227/227 [==============================] - 19s 84ms/step - loss: 0.2456 - accuracy: 0.9125 - val_loss: 0.7659 - val_accuracy: 0.7731\n",
            "Epoch 38/70\n",
            "227/227 [==============================] - ETA: 0s - loss: 0.2388 - accuracy: 0.9151\n",
            "Epoch 38: val_accuracy did not improve from 0.77723\n",
            "227/227 [==============================] - 25s 111ms/step - loss: 0.2388 - accuracy: 0.9151 - val_loss: 0.7819 - val_accuracy: 0.7615\n",
            "Epoch 39/70\n",
            "227/227 [==============================] - ETA: 0s - loss: 0.2422 - accuracy: 0.9139\n",
            "Epoch 39: val_accuracy did not improve from 0.77723\n",
            "227/227 [==============================] - 19s 85ms/step - loss: 0.2422 - accuracy: 0.9139 - val_loss: 0.7776 - val_accuracy: 0.7648\n",
            "Epoch 40/70\n",
            "227/227 [==============================] - ETA: 0s - loss: 0.2367 - accuracy: 0.9187\n",
            "Epoch 40: val_accuracy did not improve from 0.77723\n",
            "227/227 [==============================] - 19s 84ms/step - loss: 0.2367 - accuracy: 0.9187 - val_loss: 0.7960 - val_accuracy: 0.7710\n",
            "Epoch 41/70\n",
            "227/227 [==============================] - ETA: 0s - loss: 0.2345 - accuracy: 0.9170\n",
            "Epoch 41: val_accuracy improved from 0.77723 to 0.78095, saving model to best_model1.hdf5\n",
            "227/227 [==============================] - 19s 82ms/step - loss: 0.2345 - accuracy: 0.9170 - val_loss: 0.8362 - val_accuracy: 0.7810\n",
            "Epoch 42/70\n",
            "227/227 [==============================] - ETA: 0s - loss: 0.2353 - accuracy: 0.9147\n",
            "Epoch 42: val_accuracy did not improve from 0.78095\n",
            "227/227 [==============================] - 18s 81ms/step - loss: 0.2353 - accuracy: 0.9147 - val_loss: 0.8026 - val_accuracy: 0.7681\n",
            "Epoch 43/70\n",
            "227/227 [==============================] - ETA: 0s - loss: 0.2306 - accuracy: 0.9168\n",
            "Epoch 43: val_accuracy did not improve from 0.78095\n",
            "227/227 [==============================] - 19s 82ms/step - loss: 0.2306 - accuracy: 0.9168 - val_loss: 0.7977 - val_accuracy: 0.7689\n",
            "Epoch 44/70\n",
            "227/227 [==============================] - ETA: 0s - loss: 0.2296 - accuracy: 0.9161\n",
            "Epoch 44: val_accuracy did not improve from 0.78095\n",
            "227/227 [==============================] - 19s 82ms/step - loss: 0.2296 - accuracy: 0.9161 - val_loss: 0.8191 - val_accuracy: 0.7660\n",
            "Epoch 45/70\n",
            "227/227 [==============================] - ETA: 0s - loss: 0.2299 - accuracy: 0.9198\n",
            "Epoch 45: val_accuracy did not improve from 0.78095\n",
            "227/227 [==============================] - 18s 81ms/step - loss: 0.2299 - accuracy: 0.9198 - val_loss: 0.8077 - val_accuracy: 0.7739\n",
            "Epoch 46/70\n",
            "227/227 [==============================] - ETA: 0s - loss: 0.2221 - accuracy: 0.9190\n",
            "Epoch 46: val_accuracy did not improve from 0.78095\n",
            "227/227 [==============================] - 18s 81ms/step - loss: 0.2221 - accuracy: 0.9190 - val_loss: 0.8330 - val_accuracy: 0.7760\n",
            "Epoch 47/70\n",
            "227/227 [==============================] - ETA: 0s - loss: 0.2247 - accuracy: 0.9198\n",
            "Epoch 47: val_accuracy did not improve from 0.78095\n",
            "227/227 [==============================] - 18s 80ms/step - loss: 0.2247 - accuracy: 0.9198 - val_loss: 0.7763 - val_accuracy: 0.7735\n",
            "Epoch 48/70\n",
            "227/227 [==============================] - ETA: 0s - loss: 0.2188 - accuracy: 0.9244\n",
            "Epoch 48: val_accuracy did not improve from 0.78095\n",
            "227/227 [==============================] - 19s 83ms/step - loss: 0.2188 - accuracy: 0.9244 - val_loss: 0.8185 - val_accuracy: 0.7785\n",
            "Epoch 49/70\n",
            "227/227 [==============================] - ETA: 0s - loss: 0.2168 - accuracy: 0.9244\n",
            "Epoch 49: val_accuracy did not improve from 0.78095\n",
            "227/227 [==============================] - 18s 81ms/step - loss: 0.2168 - accuracy: 0.9244 - val_loss: 0.8012 - val_accuracy: 0.7735\n",
            "Epoch 50/70\n",
            "227/227 [==============================] - ETA: 0s - loss: 0.2089 - accuracy: 0.9233\n",
            "Epoch 50: val_accuracy did not improve from 0.78095\n",
            "227/227 [==============================] - 19s 84ms/step - loss: 0.2089 - accuracy: 0.9233 - val_loss: 0.8272 - val_accuracy: 0.7785\n",
            "Epoch 51/70\n",
            "227/227 [==============================] - ETA: 0s - loss: 0.2181 - accuracy: 0.9234\n",
            "Epoch 51: val_accuracy did not improve from 0.78095\n",
            "227/227 [==============================] - 19s 82ms/step - loss: 0.2181 - accuracy: 0.9234 - val_loss: 0.7786 - val_accuracy: 0.7689\n",
            "Epoch 52/70\n",
            "227/227 [==============================] - ETA: 0s - loss: 0.2167 - accuracy: 0.9230\n",
            "Epoch 52: val_accuracy did not improve from 0.78095\n",
            "227/227 [==============================] - 19s 82ms/step - loss: 0.2167 - accuracy: 0.9230 - val_loss: 0.7904 - val_accuracy: 0.7781\n",
            "Epoch 53/70\n",
            "227/227 [==============================] - ETA: 0s - loss: 0.2090 - accuracy: 0.9231\n",
            "Epoch 53: val_accuracy improved from 0.78095 to 0.78219, saving model to best_model1.hdf5\n",
            "227/227 [==============================] - 19s 83ms/step - loss: 0.2090 - accuracy: 0.9231 - val_loss: 0.8237 - val_accuracy: 0.7822\n",
            "Epoch 54/70\n",
            "227/227 [==============================] - ETA: 0s - loss: 0.2098 - accuracy: 0.9275\n",
            "Epoch 54: val_accuracy did not improve from 0.78219\n",
            "227/227 [==============================] - 19s 82ms/step - loss: 0.2098 - accuracy: 0.9275 - val_loss: 0.8115 - val_accuracy: 0.7714\n",
            "Epoch 55/70\n",
            "227/227 [==============================] - ETA: 0s - loss: 0.2036 - accuracy: 0.9263\n",
            "Epoch 55: val_accuracy did not improve from 0.78219\n",
            "227/227 [==============================] - 18s 81ms/step - loss: 0.2036 - accuracy: 0.9263 - val_loss: 0.7975 - val_accuracy: 0.7768\n",
            "Epoch 56/70\n",
            "227/227 [==============================] - ETA: 0s - loss: 0.2075 - accuracy: 0.9256\n",
            "Epoch 56: val_accuracy did not improve from 0.78219\n",
            "227/227 [==============================] - 18s 81ms/step - loss: 0.2075 - accuracy: 0.9256 - val_loss: 0.8189 - val_accuracy: 0.7710\n",
            "Epoch 57/70\n",
            "227/227 [==============================] - ETA: 0s - loss: 0.2051 - accuracy: 0.9281\n",
            "Epoch 57: val_accuracy did not improve from 0.78219\n",
            "227/227 [==============================] - 19s 83ms/step - loss: 0.2051 - accuracy: 0.9281 - val_loss: 0.8099 - val_accuracy: 0.7789\n",
            "Epoch 58/70\n",
            "227/227 [==============================] - ETA: 0s - loss: 0.1945 - accuracy: 0.9302\n",
            "Epoch 58: val_accuracy did not improve from 0.78219\n",
            "227/227 [==============================] - 19s 82ms/step - loss: 0.1945 - accuracy: 0.9302 - val_loss: 0.8110 - val_accuracy: 0.7702\n",
            "Epoch 59/70\n",
            "227/227 [==============================] - ETA: 0s - loss: 0.1973 - accuracy: 0.9255\n",
            "Epoch 59: val_accuracy did not improve from 0.78219\n",
            "227/227 [==============================] - 19s 82ms/step - loss: 0.1973 - accuracy: 0.9255 - val_loss: 0.8459 - val_accuracy: 0.7805\n",
            "Epoch 60/70\n",
            "227/227 [==============================] - ETA: 0s - loss: 0.1970 - accuracy: 0.9288\n",
            "Epoch 60: val_accuracy did not improve from 0.78219\n",
            "227/227 [==============================] - 19s 84ms/step - loss: 0.1970 - accuracy: 0.9288 - val_loss: 0.8063 - val_accuracy: 0.7702\n",
            "Epoch 61/70\n",
            "227/227 [==============================] - ETA: 0s - loss: 0.1957 - accuracy: 0.9302\n",
            "Epoch 61: val_accuracy did not improve from 0.78219\n",
            "227/227 [==============================] - 19s 83ms/step - loss: 0.1957 - accuracy: 0.9302 - val_loss: 0.7899 - val_accuracy: 0.7781\n",
            "Epoch 62/70\n",
            "227/227 [==============================] - ETA: 0s - loss: 0.1970 - accuracy: 0.9299\n",
            "Epoch 62: val_accuracy did not improve from 0.78219\n",
            "227/227 [==============================] - 19s 84ms/step - loss: 0.1970 - accuracy: 0.9299 - val_loss: 0.7928 - val_accuracy: 0.7764\n",
            "Epoch 63/70\n",
            "227/227 [==============================] - ETA: 0s - loss: 0.1894 - accuracy: 0.9324\n",
            "Epoch 63: val_accuracy did not improve from 0.78219\n",
            "227/227 [==============================] - 19s 85ms/step - loss: 0.1894 - accuracy: 0.9324 - val_loss: 0.8309 - val_accuracy: 0.7818\n",
            "Epoch 64/70\n",
            "227/227 [==============================] - ETA: 0s - loss: 0.1975 - accuracy: 0.9299\n",
            "Epoch 64: val_accuracy did not improve from 0.78219\n",
            "227/227 [==============================] - 19s 84ms/step - loss: 0.1975 - accuracy: 0.9299 - val_loss: 0.8288 - val_accuracy: 0.7718\n",
            "Epoch 65/70\n",
            "227/227 [==============================] - ETA: 0s - loss: 0.1920 - accuracy: 0.9320\n",
            "Epoch 65: val_accuracy did not improve from 0.78219\n",
            "227/227 [==============================] - 19s 84ms/step - loss: 0.1920 - accuracy: 0.9320 - val_loss: 0.7975 - val_accuracy: 0.7756\n",
            "Epoch 66/70\n",
            "227/227 [==============================] - ETA: 0s - loss: 0.1894 - accuracy: 0.9310\n",
            "Epoch 66: val_accuracy did not improve from 0.78219\n",
            "227/227 [==============================] - 19s 83ms/step - loss: 0.1894 - accuracy: 0.9310 - val_loss: 0.8826 - val_accuracy: 0.7677\n",
            "Epoch 67/70\n",
            "227/227 [==============================] - ETA: 0s - loss: 0.1872 - accuracy: 0.9314\n",
            "Epoch 67: val_accuracy did not improve from 0.78219\n",
            "227/227 [==============================] - 19s 83ms/step - loss: 0.1872 - accuracy: 0.9314 - val_loss: 0.8188 - val_accuracy: 0.7727\n",
            "Epoch 68/70\n",
            "227/227 [==============================] - ETA: 0s - loss: 0.1931 - accuracy: 0.9321\n",
            "Epoch 68: val_accuracy improved from 0.78219 to 0.78551, saving model to best_model1.hdf5\n",
            "227/227 [==============================] - 19s 84ms/step - loss: 0.1931 - accuracy: 0.9321 - val_loss: 0.8497 - val_accuracy: 0.7855\n",
            "Epoch 69/70\n",
            "227/227 [==============================] - ETA: 0s - loss: 0.1869 - accuracy: 0.9335\n",
            "Epoch 69: val_accuracy did not improve from 0.78551\n",
            "227/227 [==============================] - 19s 84ms/step - loss: 0.1869 - accuracy: 0.9335 - val_loss: 0.8292 - val_accuracy: 0.7764\n",
            "Epoch 70/70\n",
            "227/227 [==============================] - ETA: 0s - loss: 0.1846 - accuracy: 0.9332\n",
            "Epoch 70: val_accuracy did not improve from 0.78551\n",
            "227/227 [==============================] - 19s 84ms/step - loss: 0.1846 - accuracy: 0.9332 - val_loss: 0.8580 - val_accuracy: 0.7818\n"
          ]
        }
      ],
      "source": [
        "model2 = Sequential()\n",
        "model2.add(layers.Embedding(max_words, 20))\n",
        "model2.add(layers.LSTM(15,dropout=0.5))\n",
        "model2.add(layers.Dense(3,activation='softmax'))\n",
        "\n",
        "model2.compile(optimizer='rmsprop',loss='categorical_crossentropy', metrics=['accuracy'])\n",
        "checkpoint2 = ModelCheckpoint(\"best_model2.hdf5\", monitor='val_accuracy', verbose=1,save_best_only=True, mode='auto', period=1,save_weights_only=False)\n",
        "history2 = model2.fit(X_train, y_train, epochs=70,validation_data=(X_test, y_test),callbacks=[checkpoint1])"
      ]
    },
    {
      "cell_type": "markdown",
      "source": [
        "#Evaluar al modelo"
      ],
      "metadata": {
        "id": "wljVCXvC-Y-D"
      }
    },
    {
      "cell_type": "code",
      "source": [
        "best_model = keras.models.load_model(\"best_model2.hdf5\")"
      ],
      "metadata": {
        "id": "Y0s4H9Md-ru7"
      },
      "execution_count": null,
      "outputs": []
    },
    {
      "cell_type": "code",
      "source": [
        "test_loss, test_acc = best_model.evaluate(X_test, y_test, verbose=2)\n",
        "print('Model accuracy: ',test_acc)"
      ],
      "metadata": {
        "colab": {
          "base_uri": "https://localhost:8080/"
        },
        "id": "BHJjX9VNCk_8",
        "outputId": "a0e92a35-d230-4f7b-aaac-502d8d2d3cf9"
      },
      "execution_count": null,
      "outputs": [
        {
          "output_type": "stream",
          "name": "stdout",
          "text": [
            "76/76 - 2s - loss: 0.8497 - accuracy: 0.7855 - 2s/epoch - 23ms/step\n",
            "Model accuracy:  0.7855072617530823\n"
          ]
        }
      ]
    },
    {
      "cell_type": "code",
      "source": [
        "print(history.history.keys())\n",
        "# history for accuracy\n",
        "plt.plot(history.history['accuracy'])\n",
        "plt.plot(history.history['val_accuracy'])\n",
        "plt.title('model accuracy')\n",
        "plt.ylabel('accuracy')\n",
        "plt.xlabel('epoch')\n",
        "plt.legend(['train', 'test'], loc='upper left')\n",
        "plt.show()\n",
        "# history for loss\n",
        "plt.plot(history.history['loss'])\n",
        "plt.plot(history.history['val_loss'])\n",
        "plt.title('model loss')\n",
        "plt.ylabel('loss')\n",
        "plt.xlabel('epoch')\n",
        "plt.legend(['train', 'test'], loc='upper left')\n",
        "plt.show()"
      ],
      "metadata": {
        "colab": {
          "base_uri": "https://localhost:8080/",
          "height": 590
        },
        "id": "PtuoifheDB_r",
        "outputId": "188d8653-dec1-4b7c-b478-51b3a17dcecd"
      },
      "execution_count": null,
      "outputs": [
        {
          "output_type": "stream",
          "name": "stdout",
          "text": [
            "dict_keys(['loss', 'accuracy', 'val_loss', 'val_accuracy'])\n"
          ]
        },
        {
          "output_type": "display_data",
          "data": {
            "image/png": "[encoded data removed]",
            "text/plain": [
              "<Figure size 432x288 with 1 Axes>"
            ]
          },
          "metadata": {
            "needs_background": "light"
          }
        },
        {
          "output_type": "display_data",
          "data": {
            "image/png": "[encoded data removed]",
            "text/plain": [
              "<Figure size 432x288 with 1 Axes>"
            ]
          },
          "metadata": {
            "needs_background": "light"
          }
        }
      ]
    },
    {
      "cell_type": "code",
      "source": [
        "from sklearn.metrics import classification_report\n",
        "import time\n",
        "import numpy as np\n",
        "\n",
        "predictions = best_model.predict(X_test)\n",
        "start_time = time.time()\n",
        "test_predictions = np.argmax(best_model.predict(X_test), axis=-1)\n",
        "print(classification_report(y_test.argmax(axis=1),test_predictions))\n",
        "print(\"Time taken to predict the model \" + str(time.time() - start_time))"
      ],
      "metadata": {
        "colab": {
          "base_uri": "https://localhost:8080/"
        },
        "id": "qBBwlklyDnI8",
        "outputId": "659ab291-b900-4ef4-c4d8-4f58ce8d8933"
      },
      "execution_count": null,
      "outputs": [
        {
          "output_type": "stream",
          "name": "stdout",
          "text": [
            "              precision    recall  f1-score   support\n",
            "\n",
            "           0       0.75      0.83      0.79       830\n",
            "           1       0.79      0.70      0.74       781\n",
            "           2       0.82      0.82      0.82       804\n",
            "\n",
            "    accuracy                           0.79      2415\n",
            "   macro avg       0.79      0.78      0.78      2415\n",
            "weighted avg       0.79      0.79      0.78      2415\n",
            "\n",
            "Time taken to predict the model 1.1922085285186768\n"
          ]
        }
      ]
    },
    {
      "cell_type": "code",
      "source": [
        "from sklearn.metrics import confusion_matrix\n",
        "matrix = confusion_matrix(y_test.argmax(axis=1), np.around(predictions, decimals=0).argmax(axis=1))\n",
        "\n",
        "import seaborn as sns\n",
        "conf_matrix = pd.DataFrame(matrix, index = ['Neutral','Negative','Positive'],columns = ['Neutral','Negative','Positive'])\n",
        "#Normalizing\n",
        "conf_matrix = conf_matrix.astype('float') / conf_matrix.sum(axis=1)[:, np.newaxis]\n",
        "plt.figure(figsize = (15,15))\n",
        "sns.heatmap(conf_matrix, annot=True, annot_kws={\"size\": 15})"
      ],
      "metadata": {
        "colab": {
          "base_uri": "https://localhost:8080/",
          "height": 880
        },
        "id": "RYnJehdiEWJE",
        "outputId": "1fbd5d14-2c6a-4529-d90f-c4346e65d7ee"
      },
      "execution_count": null,
      "outputs": [
        {
          "output_type": "execute_result",
          "data": {
            "text/plain": [
              "<matplotlib.axes._subplots.AxesSubplot at 0x7f1e10d6ac90>"
            ]
          },
          "metadata": {},
          "execution_count": 103
        },
        {
          "output_type": "display_data",
          "data": {
            "image/png": "[encoded data removed]",
            "text/plain": [
              "<Figure size 1080x1080 with 2 Axes>"
            ]
          },
          "metadata": {
            "needs_background": "light"
          }
        }
      ]
    }
  ],
  "metadata": {
    "kernelspec": {
      "display_name": "Python 3",
      "language": "python",
      "name": "python3"
    },
    "language_info": {
      "codemirror_mode": {
        "name": "ipython",
        "version": 3
      },
      "file_extension": ".py",
      "mimetype": "text/x-python",
      "name": "python",
      "nbconvert_exporter": "python",
      "pygments_lexer": "ipython3",
      "version": "3.7.6"
    },
    "papermill": {
      "duration": 2724.650172,
      "end_time": "2020-10-06T22:04:52.151005",
      "environment_variables": {},
      "exception": null,
      "input_path": "__notebook__.ipynb",
      "output_path": "__notebook__.ipynb",
      "parameters": {},
      "start_time": "2020-10-06T21:19:27.500833",
      "version": "2.1.0"
    },
    "colab": {
      "name": "TEST2.ipynb",
      "provenance": [],
      "collapsed_sections": []
    }
  },
  "nbformat": 4,
  "nbformat_minor": 0
}