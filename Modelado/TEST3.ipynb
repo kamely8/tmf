{
  "cells": [
    {
      "cell_type": "markdown",
      "metadata": {
        "papermill": {
          "duration": 0.032369,
          "end_time": "2020-10-06T21:19:31.851445",
          "exception": false,
          "start_time": "2020-10-06T21:19:31.819076",
          "status": "completed"
        },
        "tags": [],
        "id": "bTHNMv33ezYf"
      },
      "source": [
        "# Analisis de Sentimientos Moodle Deep Learning Modelo 3"
      ]
    },
    {
      "cell_type": "markdown",
      "metadata": {
        "papermill": {
          "duration": 0.030876,
          "end_time": "2020-10-06T21:19:31.915205",
          "exception": false,
          "start_time": "2020-10-06T21:19:31.884329",
          "status": "completed"
        },
        "tags": [],
        "id": "0AYyTE4QezYj"
      },
      "source": [
        "# Librerias Necesarias"
      ]
    },
    {
      "cell_type": "code",
      "execution_count": null,
      "metadata": {
        "execution": {
          "iopub.execute_input": "2020-10-06T21:19:31.986613Z",
          "iopub.status.busy": "2020-10-06T21:19:31.985943Z",
          "iopub.status.idle": "2020-10-06T21:19:41.514922Z",
          "shell.execute_reply": "2020-10-06T21:19:41.515686Z"
        },
        "papermill": {
          "duration": 9.569887,
          "end_time": "2020-10-06T21:19:41.515898",
          "exception": false,
          "start_time": "2020-10-06T21:19:31.946011",
          "status": "completed"
        },
        "tags": [],
        "colab": {
          "base_uri": "https://localhost:8080/"
        },
        "id": "Qcmvc3jnezYk",
        "outputId": "f8a5438a-e1e8-4f05-f984-42251e4b33b7"
      },
      "outputs": [
        {
          "output_type": "stream",
          "name": "stdout",
          "text": [
            "[nltk_data] Downloading package stopwords to /root/nltk_data...\n",
            "[nltk_data]   Unzipping corpora/stopwords.zip.\n",
            "[nltk_data] Downloading package punkt to /root/nltk_data...\n",
            "[nltk_data]   Unzipping tokenizers/punkt.zip.\n"
          ]
        },
        {
          "output_type": "execute_result",
          "data": {
            "text/plain": [
              "True"
            ]
          },
          "metadata": {},
          "execution_count": 1
        }
      ],
      "source": [
        "import re\n",
        "import matplotlib.pyplot as plt\n",
        "import string\n",
        "from nltk.corpus import stopwords\n",
        "import nltk\n",
        "from nltk.corpus import wordnet\n",
        "from nltk.stem import WordNetLemmatizer\n",
        "from nltk.tokenize.treebank import TreebankWordDetokenizer\n",
        "from collections import Counter\n",
        "from wordcloud import WordCloud\n",
        "from nltk.corpus import stopwords\n",
        "import nltk\n",
        "from gensim.utils import simple_preprocess\n",
        "from nltk.corpus import stopwords\n",
        "import gensim\n",
        "from sklearn.model_selection import train_test_split\n",
        "import spacy\n",
        "import pickle\n",
        "import warnings\n",
        "warnings.filterwarnings('ignore')\n",
        "import seaborn as sns\n",
        "from sklearn.metrics import confusion_matrix\n",
        "import matplotlib.pyplot as plt \n",
        "import tensorflow as tf\n",
        "import keras\n",
        "import numpy as np\n",
        "import pandas as pd\n",
        "from bs4 import BeautifulSoup\n",
        "from nltk.corpus import stopwords\n",
        "from nltk.tokenize import word_tokenize\n",
        "nltk.download('stopwords') \n",
        "nltk.download('punkt')"
      ]
    },
    {
      "cell_type": "markdown",
      "metadata": {
        "papermill": {
          "duration": 0.032245,
          "end_time": "2020-10-06T21:19:41.583484",
          "exception": false,
          "start_time": "2020-10-06T21:19:41.551239",
          "status": "completed"
        },
        "tags": [],
        "id": "ialCPIt4ezYl"
      },
      "source": [
        "# Importar Conjunto de Datos Consolidado"
      ]
    },
    {
      "cell_type": "code",
      "execution_count": null,
      "metadata": {
        "_cell_guid": "79c7e3d0-c299-4dcb-8224-4455121ee9b0",
        "_uuid": "d629ff2d2480ee46fbb7e2d37f6b5fab8052498a",
        "execution": {
          "iopub.execute_input": "2020-10-06T21:19:41.667156Z",
          "iopub.status.busy": "2020-10-06T21:19:41.666425Z",
          "iopub.status.idle": "2020-10-06T21:19:41.753917Z",
          "shell.execute_reply": "2020-10-06T21:19:41.752384Z"
        },
        "papermill": {
          "duration": 0.132806,
          "end_time": "2020-10-06T21:19:41.754037",
          "exception": false,
          "start_time": "2020-10-06T21:19:41.621231",
          "status": "completed"
        },
        "tags": [],
        "colab": {
          "base_uri": "https://localhost:8080/"
        },
        "id": "xwWv_MpvezYm",
        "outputId": "fed3c1b6-0c37-4739-82aa-d2b305050a76"
      },
      "outputs": [
        {
          "output_type": "stream",
          "name": "stdout",
          "text": [
            "Mounted at /content/gdrive/\n"
          ]
        }
      ],
      "source": [
        "from google.colab import drive\n",
        "drive.mount('/content/gdrive/',force_remount=True)\n",
        "\n",
        "pd.set_option('display.max_columns', None)\n",
        "pd.set_option('display.max_rows', None)\n",
        "pd.set_option('display.max_colwidth', -1)\n",
        "\n",
        "train = pd.read_csv('/content/gdrive/My Drive/TFM_Analisis_Sentimientos/Corpus/dataset_balanced.csv', encoding='utf-8')\n"
      ]
    },
    {
      "cell_type": "markdown",
      "metadata": {
        "papermill": {
          "duration": 0.031706,
          "end_time": "2020-10-06T21:19:41.817762",
          "exception": false,
          "start_time": "2020-10-06T21:19:41.786056",
          "status": "completed"
        },
        "tags": [],
        "id": "dsVX5FTnezYm"
      },
      "source": [
        "# Pre procesamiento"
      ]
    },
    {
      "cell_type": "code",
      "execution_count": null,
      "metadata": {
        "execution": {
          "iopub.execute_input": "2020-10-06T21:19:41.898583Z",
          "iopub.status.busy": "2020-10-06T21:19:41.897942Z",
          "iopub.status.idle": "2020-10-06T21:19:41.908219Z",
          "shell.execute_reply": "2020-10-06T21:19:41.908804Z"
        },
        "papermill": {
          "duration": 0.05902,
          "end_time": "2020-10-06T21:19:41.908931",
          "exception": false,
          "start_time": "2020-10-06T21:19:41.849911",
          "status": "completed"
        },
        "tags": [],
        "colab": {
          "base_uri": "https://localhost:8080/",
          "height": 668
        },
        "id": "9o8bH_u4ezYm",
        "outputId": "f3e38368-ce31-49d7-d8cf-c08a604a3917"
      },
      "outputs": [
        {
          "output_type": "execute_result",
          "data": {
            "text/html": [
              "\n",
              "  <div id=\"df-25906aea-8e47-48a1-9c0f-aa5d3c02321e\">\n",
              "    <div class=\"colab-df-container\">\n",
              "      <div>\n",
              "<style scoped>\n",
              "    .dataframe tbody tr th:only-of-type {\n",
              "        vertical-align: middle;\n",
              "    }\n",
              "\n",
              "    .dataframe tbody tr th {\n",
              "        vertical-align: top;\n",
              "    }\n",
              "\n",
              "    .dataframe thead th {\n",
              "        text-align: right;\n",
              "    }\n",
              "</style>\n",
              "<table border=\"1\" class=\"dataframe\">\n",
              "  <thead>\n",
              "    <tr style=\"text-align: right;\">\n",
              "      <th></th>\n",
              "      <th>text</th>\n",
              "      <th>sentiment</th>\n",
              "    </tr>\n",
              "  </thead>\n",
              "  <tbody>\n",
              "    <tr>\n",
              "      <th>0</th>\n",
              "      <td>curso muy interesante en cuanto a contenido y en cuanto a desarrollo personal</td>\n",
              "      <td>POSITIVO</td>\n",
              "    </tr>\n",
              "    <tr>\n",
              "      <th>1</th>\n",
              "      <td>el mejor saludos desde panama</td>\n",
              "      <td>POSITIVO</td>\n",
              "    </tr>\n",
              "    <tr>\n",
              "      <th>2</th>\n",
              "      <td>es estupenda la manera en que te ensenan muy didactico y claro le doy un</td>\n",
              "      <td>POSITIVO</td>\n",
              "    </tr>\n",
              "    <tr>\n",
              "      <th>3</th>\n",
              "      <td>me ha parecido un curso fantastico breve didactico y muy bien preparado¡felicidadesfrancisco eugenio</td>\n",
              "      <td>POSITIVO</td>\n",
              "    </tr>\n",
              "    <tr>\n",
              "      <th>4</th>\n",
              "      <td>primera replica bueno creo que falta organizar la ideas pero al menos se miro el video de forma rapida en saltos como de cierta forma se responde con alguna ideas bastantes cambios que presenta ofrece distintas fases cambiante e incluso alterable teorias cientificas flexibles que se permiten adaptar etc lo que no comprendo son las siguientes frases investigaciones beneficiosas y lucrativas para el crecimiento de estas ciencias ciencia complejo ingenioso conocimiento para pasar de algo antiguo a algo innovador la ciencia trata de preguntar constantemente el porque de las cosas completamente redimidas esto es inedito en seguir buscando y este siga siendo persistente considero que ademas no se revisa lo que pide la pregunta que al plano de relatar lo presenta el conferencista tambien cosiste en relatar la experiencia personal de la cual no ha y nada en esta primera replica</td>\n",
              "      <td>POSITIVO</td>\n",
              "    </tr>\n",
              "    <tr>\n",
              "      <th>5</th>\n",
              "      <td>es muy claro que la pelicula es una recopilacion de hechos historicos en los cuales representan varios temas tratados en clase como la desviacion en la que un lider cambia su proposito o los medios manipulan la informacion para conveniencia se establece que la institucion es el estado que gobierna con unas leyes a conveniencia y lleva a un fanatismos con simbolizado con una imitacion por la esvastica utilizada por hitler por otro lado es un llamado a la revolucion necesaria asi conocida desde la revolucion francesa que se ha visto reflejada en muchas ocasiones con el fin de proteger una vez mas al pueblo oprimido y atacar el sistema que beneficia a unos cuantos en un punto de vista personal senti que esa pelicula solo cambio el contexto historico y llevo a las pantallas para demostrar el lema muy conocido el exceso del poder corrompe ya que aunque la idea de revolucion es necesaria no debe manejarse de esa forma</td>\n",
              "      <td>POSITIVO</td>\n",
              "    </tr>\n",
              "    <tr>\n",
              "      <th>6</th>\n",
              "      <td>excelente curso muy enriquecedor</td>\n",
              "      <td>POSITIVO</td>\n",
              "    </tr>\n",
              "    <tr>\n",
              "      <th>7</th>\n",
              "      <td>excelente curso todos los aplausos y felicitaciones para el docente excelente y explicito el material que nos brindo muy completo la verdad quedo mas que feliz y agradecida con el docente y la universidad</td>\n",
              "      <td>POSITIVO</td>\n",
              "    </tr>\n",
              "    <tr>\n",
              "      <th>8</th>\n",
              "      <td>excelente curso para aprender sobre el lenguaje de programacion python practico sencillo y muy bien estructurado</td>\n",
              "      <td>POSITIVO</td>\n",
              "    </tr>\n",
              "    <tr>\n",
              "      <th>9</th>\n",
              "      <td>excelente un verdadero manual de como usar el cerebro</td>\n",
              "      <td>POSITIVO</td>\n",
              "    </tr>\n",
              "    <tr>\n",
              "      <th>10</th>\n",
              "      <td>conceptos clave para ayudar en el dia a dia de la gestion de personal con total seguridad</td>\n",
              "      <td>POSITIVO</td>\n",
              "    </tr>\n",
              "    <tr>\n",
              "      <th>11</th>\n",
              "      <td>aprendi el alfabeto durante mi adolescencia despues de tantos anos decidi continuar con el aprendizaje y me siento muy satisfecha con este curso desearia que realizaran uno intermedio y avanzado muchisimas gracias</td>\n",
              "      <td>POSITIVO</td>\n",
              "    </tr>\n",
              "    <tr>\n",
              "      <th>12</th>\n",
              "      <td>me encanto esta todo muy bien explicado</td>\n",
              "      <td>POSITIVO</td>\n",
              "    </tr>\n",
              "    <tr>\n",
              "      <th>13</th>\n",
              "      <td>es muy util y con un ingles muy facil y accesible</td>\n",
              "      <td>POSITIVO</td>\n",
              "    </tr>\n",
              "    <tr>\n",
              "      <th>14</th>\n",
              "      <td>ensenanza completa y facil bien explicada</td>\n",
              "      <td>POSITIVO</td>\n",
              "    </tr>\n",
              "  </tbody>\n",
              "</table>\n",
              "</div>\n",
              "      <button class=\"colab-df-convert\" onclick=\"convertToInteractive('df-25906aea-8e47-48a1-9c0f-aa5d3c02321e')\"\n",
              "              title=\"Convert this dataframe to an interactive table.\"\n",
              "              style=\"display:none;\">\n",
              "        \n",
              "  <svg xmlns=\"http://www.w3.org/2000/svg\" height=\"24px\"viewBox=\"0 0 24 24\"\n",
              "       width=\"24px\">\n",
              "    <path d=\"M0 0h24v24H0V0z\" fill=\"none\"/>\n",
              "    <path d=\"M18.56 5.44l.94 2.06.94-2.06 2.06-.94-2.06-.94-.94-2.06-.94 2.06-2.06.94zm-11 1L8.5 8.5l.94-2.06 2.06-.94-2.06-.94L8.5 2.5l-.94 2.06-2.06.94zm10 10l.94 2.06.94-2.06 2.06-.94-2.06-.94-.94-2.06-.94 2.06-2.06.94z\"/><path d=\"M17.41 7.96l-1.37-1.37c-.4-.4-.92-.59-1.43-.59-.52 0-1.04.2-1.43.59L10.3 9.45l-7.72 7.72c-.78.78-.78 2.05 0 2.83L4 21.41c.39.39.9.59 1.41.59.51 0 1.02-.2 1.41-.59l7.78-7.78 2.81-2.81c.8-.78.8-2.07 0-2.86zM5.41 20L4 18.59l7.72-7.72 1.47 1.35L5.41 20z\"/>\n",
              "  </svg>\n",
              "      </button>\n",
              "      \n",
              "  <style>\n",
              "    .colab-df-container {\n",
              "      display:flex;\n",
              "      flex-wrap:wrap;\n",
              "      gap: 12px;\n",
              "    }\n",
              "\n",
              "    .colab-df-convert {\n",
              "      background-color: #E8F0FE;\n",
              "      border: none;\n",
              "      border-radius: 50%;\n",
              "      cursor: pointer;\n",
              "      display: none;\n",
              "      fill: #1967D2;\n",
              "      height: 32px;\n",
              "      padding: 0 0 0 0;\n",
              "      width: 32px;\n",
              "    }\n",
              "\n",
              "    .colab-df-convert:hover {\n",
              "      background-color: #E2EBFA;\n",
              "      box-shadow: 0px 1px 2px rgba(60, 64, 67, 0.3), 0px 1px 3px 1px rgba(60, 64, 67, 0.15);\n",
              "      fill: #174EA6;\n",
              "    }\n",
              "\n",
              "    [theme=dark] .colab-df-convert {\n",
              "      background-color: #3B4455;\n",
              "      fill: #D2E3FC;\n",
              "    }\n",
              "\n",
              "    [theme=dark] .colab-df-convert:hover {\n",
              "      background-color: #434B5C;\n",
              "      box-shadow: 0px 1px 3px 1px rgba(0, 0, 0, 0.15);\n",
              "      filter: drop-shadow(0px 1px 2px rgba(0, 0, 0, 0.3));\n",
              "      fill: #FFFFFF;\n",
              "    }\n",
              "  </style>\n",
              "\n",
              "      <script>\n",
              "        const buttonEl =\n",
              "          document.querySelector('#df-25906aea-8e47-48a1-9c0f-aa5d3c02321e button.colab-df-convert');\n",
              "        buttonEl.style.display =\n",
              "          google.colab.kernel.accessAllowed ? 'block' : 'none';\n",
              "\n",
              "        async function convertToInteractive(key) {\n",
              "          const element = document.querySelector('#df-25906aea-8e47-48a1-9c0f-aa5d3c02321e');\n",
              "          const dataTable =\n",
              "            await google.colab.kernel.invokeFunction('convertToInteractive',\n",
              "                                                     [key], {});\n",
              "          if (!dataTable) return;\n",
              "\n",
              "          const docLinkHtml = 'Like what you see? Visit the ' +\n",
              "            '<a target=\"_blank\" href=https://colab.research.google.com/notebooks/data_table.ipynb>data table notebook</a>'\n",
              "            + ' to learn more about interactive tables.';\n",
              "          element.innerHTML = '';\n",
              "          dataTable['output_type'] = 'display_data';\n",
              "          await google.colab.output.renderOutput(dataTable, element);\n",
              "          const docLink = document.createElement('div');\n",
              "          docLink.innerHTML = docLinkHtml;\n",
              "          element.appendChild(docLink);\n",
              "        }\n",
              "      </script>\n",
              "    </div>\n",
              "  </div>\n",
              "  "
            ],
            "text/plain": [
              "                                                                                                                                                                                                                                                                                                                                                                                                                                                                                                                                                                                                                                                                                                                                                                                                                                                                                                                                                              text  \\\n",
              "0   curso muy interesante en cuanto a contenido y en cuanto a desarrollo personal                                                                                                                                                                                                                                                                                                                                                                                                                                                                                                                                                                                                                                                                                                                                                                                                                                                                                    \n",
              "1   el mejor saludos desde panama                                                                                                                                                                                                                                                                                                                                                                                                                                                                                                                                                                                                                                                                                                                                                                                                                                                                                                                                    \n",
              "2   es estupenda la manera en que te ensenan muy didactico y claro le doy un                                                                                                                                                                                                                                                                                                                                                                                                                                                                                                                                                                                                                                                                                                                                                                                                                                                                                         \n",
              "3   me ha parecido un curso fantastico breve didactico y muy bien preparado¡felicidadesfrancisco eugenio                                                                                                                                                                                                                                                                                                                                                                                                                                                                                                                                                                                                                                                                                                                                                                                                                                                             \n",
              "4   primera replica bueno creo que falta organizar la ideas pero al menos se miro el video de forma rapida en saltos como de cierta forma se responde con alguna ideas bastantes cambios que presenta ofrece distintas fases cambiante e incluso alterable teorias cientificas flexibles que se permiten adaptar etc lo que no comprendo son las siguientes frases investigaciones beneficiosas y lucrativas para el crecimiento de estas ciencias ciencia complejo ingenioso conocimiento para pasar de algo antiguo a algo innovador la ciencia trata de preguntar constantemente el porque de las cosas completamente redimidas esto es inedito en seguir buscando y este siga siendo persistente considero que ademas no se revisa lo que pide la pregunta que al plano de relatar lo presenta el conferencista tambien cosiste en relatar la experiencia personal de la cual no ha y nada en esta primera replica                                               \n",
              "5   es muy claro que la pelicula es una recopilacion de hechos historicos en los cuales representan varios temas tratados en clase como la desviacion en la que un lider cambia su proposito o los medios manipulan la informacion para conveniencia se establece que la institucion es el estado que gobierna con unas leyes a conveniencia y lleva a un fanatismos con simbolizado con una imitacion por la esvastica utilizada por hitler por otro lado es un llamado a la revolucion necesaria asi conocida desde la revolucion francesa que se ha visto reflejada en muchas ocasiones con el fin de proteger una vez mas al pueblo oprimido y atacar el sistema que beneficia a unos cuantos en un punto de vista personal senti que esa pelicula solo cambio el contexto historico y llevo a las pantallas para demostrar el lema muy conocido el exceso del poder corrompe ya que aunque la idea de revolucion es necesaria no debe manejarse de esa forma    \n",
              "6   excelente curso muy enriquecedor                                                                                                                                                                                                                                                                                                                                                                                                                                                                                                                                                                                                                                                                                                                                                                                                                                                                                                                                 \n",
              "7   excelente curso todos los aplausos y felicitaciones para el docente excelente y explicito el material que nos brindo muy completo la verdad quedo mas que feliz y agradecida con el docente y la universidad                                                                                                                                                                                                                                                                                                                                                                                                                                                                                                                                                                                                                                                                                                                                                     \n",
              "8   excelente curso para aprender sobre el lenguaje de programacion python practico sencillo y muy bien estructurado                                                                                                                                                                                                                                                                                                                                                                                                                                                                                                                                                                                                                                                                                                                                                                                                                                                 \n",
              "9   excelente un verdadero manual de como usar el cerebro                                                                                                                                                                                                                                                                                                                                                                                                                                                                                                                                                                                                                                                                                                                                                                                                                                                                                                            \n",
              "10  conceptos clave para ayudar en el dia a dia de la gestion de personal con total seguridad                                                                                                                                                                                                                                                                                                                                                                                                                                                                                                                                                                                                                                                                                                                                                                                                                                                                        \n",
              "11  aprendi el alfabeto durante mi adolescencia despues de tantos anos decidi continuar con el aprendizaje y me siento muy satisfecha con este curso desearia que realizaran uno intermedio y avanzado muchisimas gracias                                                                                                                                                                                                                                                                                                                                                                                                                                                                                                                                                                                                                                                                                                                                            \n",
              "12  me encanto esta todo muy bien explicado                                                                                                                                                                                                                                                                                                                                                                                                                                                                                                                                                                                                                                                                                                                                                                                                                                                                                                                          \n",
              "13  es muy util y con un ingles muy facil y accesible                                                                                                                                                                                                                                                                                                                                                                                                                                                                                                                                                                                                                                                                                                                                                                                                                                                                                                                \n",
              "14  ensenanza completa y facil bien explicada                                                                                                                                                                                                                                                                                                                                                                                                                                                                                                                                                                                                                                                                                                                                                                                                                                                                                                                        \n",
              "\n",
              "   sentiment  \n",
              "0   POSITIVO  \n",
              "1   POSITIVO  \n",
              "2   POSITIVO  \n",
              "3   POSITIVO  \n",
              "4   POSITIVO  \n",
              "5   POSITIVO  \n",
              "6   POSITIVO  \n",
              "7   POSITIVO  \n",
              "8   POSITIVO  \n",
              "9   POSITIVO  \n",
              "10  POSITIVO  \n",
              "11  POSITIVO  \n",
              "12  POSITIVO  \n",
              "13  POSITIVO  \n",
              "14  POSITIVO  "
            ]
          },
          "metadata": {},
          "execution_count": 7
        }
      ],
      "source": [
        "train.head(15)"
      ]
    },
    {
      "cell_type": "code",
      "execution_count": null,
      "metadata": {
        "execution": {
          "iopub.execute_input": "2020-10-06T21:19:41.980569Z",
          "iopub.status.busy": "2020-10-06T21:19:41.979730Z",
          "iopub.status.idle": "2020-10-06T21:19:41.983566Z",
          "shell.execute_reply": "2020-10-06T21:19:41.983073Z"
        },
        "papermill": {
          "duration": 0.041264,
          "end_time": "2020-10-06T21:19:41.983666",
          "exception": false,
          "start_time": "2020-10-06T21:19:41.942402",
          "status": "completed"
        },
        "tags": [],
        "id": "yR2KCh_xezYn"
      },
      "outputs": [],
      "source": [
        "#Longitud del dataset\n",
        "len(train)\n",
        "#Etiquetas de sentimiento\n",
        "train['sentiment'].unique()\n",
        "#Distribucion de dataset\n",
        "train.groupby('sentiment').nunique()\n",
        "#Valores Nulos\n",
        "train[\"text\"].isnull().sum()\n",
        "train[\"text\"].fillna(\"No content\", inplace = True)"
      ]
    },
    {
      "cell_type": "markdown",
      "metadata": {
        "papermill": {
          "duration": 0.033994,
          "end_time": "2020-10-06T21:19:42.255666",
          "exception": false,
          "start_time": "2020-10-06T21:19:42.221672",
          "status": "completed"
        },
        "tags": [],
        "id": "v7sAj1EIezYp"
      },
      "source": [
        "Funciones para limpieza de Texto"
      ]
    },
    {
      "cell_type": "code",
      "source": [
        "#Funciones para limpiar el texto\n",
        "#!pip install spacy\n",
        "#!python -m spacy download es_core_news_sm\n",
        "\n",
        "stop_words =stopwords.words('spanish')\n",
        "stop_words.extend(['si', 'tambien', 'asi', 'debe', 'tener','cada','ademas','parte','ser','ma','mismo','mas'])  \n",
        "\n",
        "#Funcion para remover tags html\n",
        "def html_remover(data):\n",
        "  beauti = BeautifulSoup(data,'html.parser')\n",
        "  return beauti.get_text()\n",
        "\n",
        "#Funcion para Remover URLs\n",
        "def url_remover(data):\n",
        "  return re.sub(r'https\\S','',data)\n",
        "\n",
        "def clean_text(text):\n",
        "  #Convertir a minúsculas\n",
        "  text = text.lower()\n",
        "  #LLamar funciones para remover html y urls\n",
        "  text= html_remover(text)\n",
        "  text = url_remover(text) \n",
        "  #Eliminar texto entre corchetes, signos de puntuacion,numeros,espacios en blanco, emails\n",
        "  text = re.sub('\\[.*?¿\\]\\%', '', text)\n",
        "  text = re.sub('[%s]' % re.escape(string.punctuation), '', text)\n",
        "  text = re.sub('\\w*\\d\\w*', '', text)\n",
        "  text = re.sub('[‘’“”…«»]', '', text)\n",
        "  text = re.sub('\\n','', text)\n",
        "  text = re.sub('\\S*@\\S*\\s?', '', text)\n",
        "  text = re.sub('\\s+', ' ', text)\n",
        "  text = re.sub(\"\\'\", \"\", text)\n",
        "\n",
        "  text=text.strip()\n",
        "\n",
        "  #Eliminar tildes y diacriticas\n",
        "  text = re.sub('á', 'a', text)\n",
        "  text = re.sub('é', 'e', text)\n",
        "  text = re.sub('í', 'i', text)\n",
        "  text = re.sub('ó', 'o', text)\n",
        "  text = re.sub('ú', 'u', text)\n",
        "  text = re.sub('ü', 'u', text)\n",
        "  text = re.sub('ñ', 'n', text)\n",
        "  text = re.sub('¿', '', text)\n",
        "  text = re.sub('¡', '', text)\n",
        "  text = re.sub('!', '', text)\n",
        "\n",
        "  return text\n",
        "\n",
        "#Funcion para convertir tokens en una oracion\n",
        "def detokenize(text):\n",
        "    return TreebankWordDetokenizer().detokenize(text)\n",
        "\n",
        "#Tokenizar y remover stop words\n",
        "def sent_to_words(sentences):\n",
        "    for sentence in sentences:\n",
        "        text=gensim.utils.simple_preprocess(str(sentence), deacc=True)\n",
        "        text = [word for word in text if word not in stop_words]      \n",
        "        yield(text)"
      ],
      "metadata": {
        "id": "KQVBvm_Cc50H"
      },
      "execution_count": null,
      "outputs": []
    },
    {
      "cell_type": "markdown",
      "source": [
        "Grabar los datos en una lista temporal para ejecutar funciones de limpieza de texto y tokenizar eliminando palabras vacias"
      ],
      "metadata": {
        "id": "7rbwbQBxgAo_"
      }
    },
    {
      "cell_type": "code",
      "execution_count": null,
      "metadata": {
        "execution": {
          "iopub.execute_input": "2020-10-06T21:19:42.742866Z",
          "iopub.status.busy": "2020-10-06T21:19:42.737799Z",
          "iopub.status.idle": "2020-10-06T21:19:43.099846Z",
          "shell.execute_reply": "2020-10-06T21:19:43.100317Z"
        },
        "papermill": {
          "duration": 0.411166,
          "end_time": "2020-10-06T21:19:43.100446",
          "exception": false,
          "start_time": "2020-10-06T21:19:42.689280",
          "status": "completed"
        },
        "tags": [],
        "id": "d4O0nt2NezYs"
      },
      "outputs": [],
      "source": [
        "temp = []\n",
        "\n",
        "data_to_list = train['text'].values.tolist()\n",
        "\n",
        "for i in range(len(data_to_list)):\n",
        "   temp.append(clean_text(data_to_list[i]))\n",
        "\n",
        "data_words = list(sent_to_words(temp))\n"
      ]
    },
    {
      "cell_type": "code",
      "source": [
        "print(data_words[:10])"
      ],
      "metadata": {
        "colab": {
          "base_uri": "https://localhost:8080/"
        },
        "id": "hhXpuEKixe6B",
        "outputId": "7f83445e-1740-4b9e-8adb-339d135119df"
      },
      "execution_count": null,
      "outputs": [
        {
          "output_type": "stream",
          "name": "stdout",
          "text": [
            "[['curso', 'interesante', 'cuanto', 'contenido', 'cuanto', 'desarrollo', 'personal'], ['mejor', 'saludos', 'panama'], ['estupenda', 'manera', 'ensenan', 'didactico', 'claro', 'doy'], ['parecido', 'curso', 'fantastico', 'breve', 'didactico', 'bien', 'eugenio'], ['primera', 'replica', 'bueno', 'creo', 'falta', 'organizar', 'ideas', 'menos', 'miro', 'video', 'forma', 'rapida', 'saltos', 'cierta', 'forma', 'responde', 'alguna', 'ideas', 'bastantes', 'cambios', 'presenta', 'ofrece', 'distintas', 'fases', 'cambiante', 'incluso', 'alterable', 'teorias', 'cientificas', 'flexibles', 'permiten', 'adaptar', 'etc', 'comprendo', 'siguientes', 'frases', 'investigaciones', 'beneficiosas', 'lucrativas', 'crecimiento', 'ciencias', 'ciencia', 'complejo', 'ingenioso', 'conocimiento', 'pasar', 'antiguo', 'innovador', 'ciencia', 'trata', 'preguntar', 'constantemente', 'cosas', 'completamente', 'redimidas', 'inedito', 'seguir', 'buscando', 'siga', 'siendo', 'persistente', 'considero', 'revisa', 'pide', 'pregunta', 'plano', 'relatar', 'presenta', 'conferencista', 'cosiste', 'relatar', 'experiencia', 'personal', 'primera', 'replica'], ['claro', 'pelicula', 'recopilacion', 'hechos', 'historicos', 'cuales', 'representan', 'varios', 'temas', 'tratados', 'clase', 'desviacion', 'lider', 'cambia', 'proposito', 'medios', 'manipulan', 'informacion', 'conveniencia', 'establece', 'institucion', 'gobierna', 'unas', 'leyes', 'conveniencia', 'lleva', 'fanatismos', 'simbolizado', 'imitacion', 'esvastica', 'utilizada', 'hitler', 'lado', 'llamado', 'revolucion', 'necesaria', 'conocida', 'revolucion', 'francesa', 'visto', 'reflejada', 'muchas', 'ocasiones', 'fin', 'proteger', 'vez', 'pueblo', 'oprimido', 'atacar', 'sistema', 'beneficia', 'cuantos', 'punto', 'vista', 'personal', 'senti', 'pelicula', 'solo', 'cambio', 'contexto', 'historico', 'llevo', 'pantallas', 'demostrar', 'lema', 'conocido', 'exceso', 'poder', 'corrompe', 'aunque', 'idea', 'revolucion', 'necesaria', 'manejarse', 'forma'], ['excelente', 'curso', 'enriquecedor'], ['excelente', 'curso', 'aplausos', 'felicitaciones', 'docente', 'excelente', 'explicito', 'material', 'brindo', 'completo', 'verdad', 'quedo', 'feliz', 'agradecida', 'docente', 'universidad'], ['excelente', 'curso', 'aprender', 'lenguaje', 'programacion', 'python', 'practico', 'sencillo', 'bien', 'estructurado'], ['excelente', 'verdadero', 'manual', 'usar', 'cerebro']]\n"
          ]
        }
      ]
    },
    {
      "cell_type": "code",
      "execution_count": null,
      "metadata": {
        "execution": {
          "iopub.execute_input": "2020-10-06T21:19:44.561022Z",
          "iopub.status.busy": "2020-10-06T21:19:44.550825Z",
          "iopub.status.idle": "2020-10-06T21:19:47.831584Z",
          "shell.execute_reply": "2020-10-06T21:19:47.832620Z"
        },
        "papermill": {
          "duration": 3.326682,
          "end_time": "2020-10-06T21:19:47.832800",
          "exception": false,
          "start_time": "2020-10-06T21:19:44.506118",
          "status": "completed"
        },
        "tags": [],
        "colab": {
          "base_uri": "https://localhost:8080/"
        },
        "id": "dGmEqfS0ezYu",
        "outputId": "be5848ca-b1bb-4372-d636-8b2ea4f398d0"
      },
      "outputs": [
        {
          "output_type": "stream",
          "name": "stdout",
          "text": [
            "['curso interesante cuanto contenido cuanto desarrollo personal', 'mejor saludos panama', 'estupenda manera ensenan didactico claro doy', 'parecido curso fantastico breve didactico bien eugenio', 'primera replica bueno creo falta organizar ideas menos miro video forma rapida saltos cierta forma responde alguna ideas bastantes cambios presenta ofrece distintas fases cambiante incluso alterable teorias cientificas flexibles permiten adaptar etc comprendo siguientes frases investigaciones beneficiosas lucrativas crecimiento ciencias ciencia complejo ingenioso conocimiento pasar antiguo innovador ciencia trata preguntar constantemente cosas completamente redimidas inedito seguir buscando siga siendo persistente considero revisa pide pregunta plano relatar presenta conferencista cosiste relatar experiencia personal primera replica']\n"
          ]
        }
      ],
      "source": [
        "data = []\n",
        "for i in range(len(data_words)):\n",
        "    data.append(detokenize(data_words[i]))\n",
        "print(data[:5])"
      ]
    },
    {
      "cell_type": "markdown",
      "source": [
        "Convertir lista de textos en un array "
      ],
      "metadata": {
        "id": "dMlfwky-8XZC"
      }
    },
    {
      "cell_type": "code",
      "execution_count": null,
      "metadata": {
        "execution": {
          "iopub.execute_input": "2020-10-06T21:19:47.936780Z",
          "iopub.status.busy": "2020-10-06T21:19:47.934885Z",
          "iopub.status.idle": "2020-10-06T21:19:47.937552Z",
          "shell.execute_reply": "2020-10-06T21:19:47.938090Z"
        },
        "papermill": {
          "duration": 0.06542,
          "end_time": "2020-10-06T21:19:47.938217",
          "exception": false,
          "start_time": "2020-10-06T21:19:47.872797",
          "status": "completed"
        },
        "tags": [],
        "id": "uZ7yebWYezYu",
        "colab": {
          "base_uri": "https://localhost:8080/"
        },
        "outputId": "febc3970-98fd-479d-e443-3cc171bc7239"
      },
      "outputs": [
        {
          "output_type": "stream",
          "name": "stdout",
          "text": [
            "['curso interesante cuanto contenido cuanto desarrollo personal'\n",
            " 'mejor saludos panama' 'estupenda manera ensenan didactico claro doy' ...\n",
            " 'nombre johny fernando licenciado trabajo docente colegio san fracisco javier expectativas frente seminario servir mejor'\n",
            " 'acuerdo expuesto companero incumplimiento objeto obra contratista ver decisiones interventoria aprobar rechazar misma interventoria cumple papel consecuencias nefastas ejecucion obra tal mira proyecto mencion'\n",
            " 'vida bien fisica mentalmente alcanzar metas propuesto diario vivir pasando situaciones ocasiones problematicas llevaderas segura desvio positivo quiero dar vida podre solucionar dejar lado felicidad homeostasis fisica mental buena hija hermana nieta amiga persona hacerlo siempre dado paz tranquilidad cierto modo sabiduria vida significa significaba naci simplemente mundo ahora vida empieza dar vuelco diferente imagine nina ahora cosas hago buenas malas repercuten vida ende vida rodean ello puedo decir proposito alcanzar mejor ayer refiero exigirme misma meta logre alcanzar superarla dia llegar sonado hara feliz exitosa partir autobiografia mision personal compromiso llena valores etico mundo viviendo ocasiones tan fructifero puede hacerlo mundo vales produces entonces actuas determinada situacion eticamente ello puedes satisfacer deseo persona simplemente sirves sabes contrario dices persona quiere escuchar ayudas tal pide aunque estes actuando principios contrataran pagaran mejor marginaran etica dia importante espacios trabajo ambicion clandestinidad convertido profesionales presos propias decisiones desafios ambito personal considero importante etica interior personas actuar forma correcta siempre dejar huella marcar diferencia forma positiva desafios ambito familiar etica manifestar momento lugar acciones pequenos detalles cuentan comportamiento correcto desafios ambito profesional profesionales futuros profesionales debemos demostrar etica sustancial proceder laboral credibilidad da etica profesionales compra ningun lugar requiere arduo trabajo toda vida']\n"
          ]
        }
      ],
      "source": [
        "data = np.array(data)\n",
        "print(data)"
      ]
    },
    {
      "cell_type": "markdown",
      "metadata": {
        "papermill": {
          "duration": 0.037183,
          "end_time": "2020-10-06T21:19:48.013459",
          "exception": false,
          "start_time": "2020-10-06T21:19:47.976276",
          "status": "completed"
        },
        "tags": [],
        "id": "FFU1SVJfezYu"
      },
      "source": [
        "Codificar las etiquetas"
      ]
    },
    {
      "cell_type": "code",
      "execution_count": null,
      "metadata": {
        "execution": {
          "iopub.execute_input": "2020-10-06T21:19:48.122784Z",
          "iopub.status.busy": "2020-10-06T21:19:48.121518Z",
          "iopub.status.idle": "2020-10-06T21:19:48.125042Z",
          "shell.execute_reply": "2020-10-06T21:19:48.125481Z"
        },
        "papermill": {
          "duration": 0.074223,
          "end_time": "2020-10-06T21:19:48.125627",
          "exception": false,
          "start_time": "2020-10-06T21:19:48.051404",
          "status": "completed"
        },
        "tags": [],
        "id": "mxVA8eAGezYu"
      },
      "outputs": [],
      "source": [
        "labels = np.array(train['sentiment'])\n",
        "y = []\n",
        "for i in range(len(labels)):\n",
        "    if labels[i] == 'NEUTRAL':\n",
        "        y.append(0)\n",
        "    if labels[i] == 'NEGATIVO':\n",
        "        y.append(1)\n",
        "    if labels[i] == 'POSITIVO':\n",
        "        y.append(2)\n",
        "y = np.array(y)\n",
        "labels = tf.keras.utils.to_categorical(y, 3, dtype=\"float32\")\n",
        "del y"
      ]
    },
    {
      "cell_type": "markdown",
      "metadata": {
        "papermill": {
          "duration": 0.038298,
          "end_time": "2020-10-06T21:19:48.287312",
          "exception": false,
          "start_time": "2020-10-06T21:19:48.249014",
          "status": "completed"
        },
        "tags": [],
        "id": "KbIVBBooezYv"
      },
      "source": [
        "# Transformacion de datos a vectores para entrada a la red neuronal"
      ]
    },
    {
      "cell_type": "code",
      "execution_count": null,
      "metadata": {
        "execution": {
          "iopub.execute_input": "2020-10-06T21:19:48.373707Z",
          "iopub.status.busy": "2020-10-06T21:19:48.372469Z",
          "iopub.status.idle": "2020-10-06T21:19:49.386819Z",
          "shell.execute_reply": "2020-10-06T21:19:49.387562Z"
        },
        "papermill": {
          "duration": 1.062302,
          "end_time": "2020-10-06T21:19:49.387739",
          "exception": false,
          "start_time": "2020-10-06T21:19:48.325437",
          "status": "completed"
        },
        "tags": [],
        "colab": {
          "base_uri": "https://localhost:8080/"
        },
        "id": "WmQWE01CezYv",
        "outputId": "41716269-7804-4617-d3fc-bf09ee63b3b9"
      },
      "outputs": [
        {
          "output_type": "stream",
          "name": "stdout",
          "text": [
            "[[   0    0    0 ...   78   20   62]\n",
            " [   0    0    0 ...    0   30 1435]\n",
            " [   0    0    0 ...  893  134 2729]\n",
            " ...\n",
            " [   0    0    0 ...  107 1358   30]\n",
            " [   0    0    0 ... 1930  135 2934]\n",
            " [   0    0    0 ...    7  162    4]]\n"
          ]
        }
      ],
      "source": [
        "from keras.models import Sequential\n",
        "from keras import layers\n",
        "from tensorflow.keras.optimizers import Adam\n",
        "from keras.preprocessing.text import Tokenizer\n",
        "from keras.preprocessing.sequence import pad_sequences\n",
        "from keras import regularizers\n",
        "from keras import backend as K\n",
        "import pickle\n",
        "from keras.callbacks import ModelCheckpoint\n",
        "\n",
        "max_words = 5000\n",
        "max_len = 200\n",
        "\n",
        "tokenizer = Tokenizer(num_words=max_words)\n",
        "tokenizer.fit_on_texts(data)\n",
        "sequences = tokenizer.texts_to_sequences(data)\n",
        "tweets = pad_sequences(sequences, maxlen=max_len)\n",
        "print(tweets)\n",
        "\n",
        "import pickle\n",
        "\n",
        "#Guardar tokenizador\n",
        "with open('tokenizer.pickle', 'wb') as handle:\n",
        "    pickle.dump(tokenizer, handle, protocol=pickle.HIGHEST_PROTOCOL)"
      ]
    },
    {
      "cell_type": "code",
      "execution_count": null,
      "metadata": {
        "execution": {
          "iopub.execute_input": "2020-10-06T21:19:49.478734Z",
          "iopub.status.busy": "2020-10-06T21:19:49.477823Z",
          "iopub.status.idle": "2020-10-06T21:19:49.482217Z",
          "shell.execute_reply": "2020-10-06T21:19:49.483329Z"
        },
        "papermill": {
          "duration": 0.054099,
          "end_time": "2020-10-06T21:19:49.483550",
          "exception": false,
          "start_time": "2020-10-06T21:19:49.429451",
          "status": "completed"
        },
        "tags": [],
        "colab": {
          "base_uri": "https://localhost:8080/"
        },
        "id": "_H2DauvoezYv",
        "outputId": "52b24c4d-082b-4388-a955-6e7b95930557"
      },
      "outputs": [
        {
          "output_type": "stream",
          "name": "stdout",
          "text": [
            "[[0. 0. 1.]\n",
            " [0. 0. 1.]\n",
            " [0. 0. 1.]\n",
            " ...\n",
            " [1. 0. 0.]\n",
            " [1. 0. 0.]\n",
            " [1. 0. 0.]]\n"
          ]
        }
      ],
      "source": [
        "print(labels)"
      ]
    },
    {
      "cell_type": "markdown",
      "source": [
        "Dividir los datos para entrenamiento y test"
      ],
      "metadata": {
        "id": "F_fPojG1ABWD"
      }
    },
    {
      "cell_type": "code",
      "execution_count": null,
      "metadata": {
        "execution": {
          "iopub.execute_input": "2020-10-06T21:19:49.585814Z",
          "iopub.status.busy": "2020-10-06T21:19:49.584576Z",
          "iopub.status.idle": "2020-10-06T21:19:49.600360Z",
          "shell.execute_reply": "2020-10-06T21:19:49.601002Z"
        },
        "papermill": {
          "duration": 0.069178,
          "end_time": "2020-10-06T21:19:49.601136",
          "exception": false,
          "start_time": "2020-10-06T21:19:49.531958",
          "status": "completed"
        },
        "tags": [],
        "colab": {
          "base_uri": "https://localhost:8080/"
        },
        "id": "Nt6eHCgfezYv",
        "outputId": "f60067af-7e3c-44bd-9bf3-efa071f6b34c"
      },
      "outputs": [
        {
          "output_type": "stream",
          "name": "stdout",
          "text": [
            "7245 2415 7245 2415\n"
          ]
        }
      ],
      "source": [
        "\n",
        "X_train, X_test, y_train, y_test = train_test_split(tweets,labels, random_state=0)\n",
        "print (len(X_train),len(X_test),len(y_train),len(y_test))"
      ]
    },
    {
      "cell_type": "markdown",
      "metadata": {
        "papermill": {
          "duration": 0.044937,
          "end_time": "2020-10-06T21:19:49.968644",
          "exception": false,
          "start_time": "2020-10-06T21:19:49.923707",
          "status": "completed"
        },
        "tags": [],
        "id": "v5398cRFezYw"
      },
      "source": [
        "# Modelado de la Red Neuronal"
      ]
    },
    {
      "cell_type": "code",
      "execution_count": null,
      "metadata": {
        "execution": {
          "iopub.execute_input": "2020-10-06T21:19:50.068632Z",
          "iopub.status.busy": "2020-10-06T21:19:50.067909Z",
          "iopub.status.idle": "2020-10-06T21:30:02.803265Z",
          "shell.execute_reply": "2020-10-06T21:30:02.805203Z"
        },
        "papermill": {
          "duration": 612.793273,
          "end_time": "2020-10-06T21:30:02.806611",
          "exception": false,
          "start_time": "2020-10-06T21:19:50.013338",
          "status": "completed"
        },
        "tags": [],
        "colab": {
          "base_uri": "https://localhost:8080/"
        },
        "id": "W3Ih6qmoezYw",
        "outputId": "c95b7d00-9e60-4dc1-c28d-d7f037feff5f"
      },
      "outputs": [
        {
          "output_type": "stream",
          "name": "stdout",
          "text": [
            "Model: \"sequential_1\"\n",
            "_________________________________________________________________\n",
            " Layer (type)                Output Shape              Param #   \n",
            "=================================================================\n",
            " embedding_1 (Embedding)     (None, 200, 40)           200000    \n",
            "                                                                 \n",
            " bidirectional_1 (Bidirectio  (None, 40)               9760      \n",
            " nal)                                                            \n",
            "                                                                 \n",
            " dense_1 (Dense)             (None, 3)                 123       \n",
            "                                                                 \n",
            "=================================================================\n",
            "Total params: 209,883\n",
            "Trainable params: 209,883\n",
            "Non-trainable params: 0\n",
            "_________________________________________________________________\n"
          ]
        }
      ],
      "source": [
        "model2 = Sequential()\n",
        "model2.add(layers.Embedding(max_words, 40, input_length=max_len))\n",
        "model2.add(layers.Bidirectional(layers.LSTM(20,dropout=0.6)))\n",
        "model2.add(layers.Dense(3,activation='softmax'))\n",
        "model2.summary()"
      ]
    },
    {
      "cell_type": "markdown",
      "source": [
        "#Entrenamiento del modelo"
      ],
      "metadata": {
        "id": "OKsArHfi-Tn7"
      }
    },
    {
      "cell_type": "code",
      "source": [
        "model2.compile(optimizer='rmsprop',loss='categorical_crossentropy', metrics=['accuracy'])\n",
        "checkpoint2 = ModelCheckpoint(\"best_model2.hdf5\", monitor='val_accuracy', verbose=1,save_best_only=True, mode='auto', period=1,save_weights_only=False)\n",
        "history = model2.fit(X_train, y_train, epochs=70,validation_data=(X_test, y_test),callbacks=[checkpoint2])"
      ],
      "metadata": {
        "colab": {
          "base_uri": "https://localhost:8080/"
        },
        "id": "O43rscO1I81d",
        "outputId": "8f0c5d4d-04eb-4643-dac2-05397cfd4cb0"
      },
      "execution_count": null,
      "outputs": [
        {
          "output_type": "stream",
          "name": "stdout",
          "text": [
            "WARNING:tensorflow:`period` argument is deprecated. Please use `save_freq` to specify the frequency in number of batches seen.\n",
            "Epoch 1/70\n",
            "227/227 [==============================] - ETA: 0s - loss: 0.9451 - accuracy: 0.5329\n",
            "Epoch 1: val_accuracy improved from -inf to 0.63271, saving model to best_model2.hdf5\n",
            "227/227 [==============================] - 36s 138ms/step - loss: 0.9451 - accuracy: 0.5329 - val_loss: 0.8303 - val_accuracy: 0.6327\n",
            "Epoch 2/70\n",
            "227/227 [==============================] - ETA: 0s - loss: 0.7619 - accuracy: 0.6690\n",
            "Epoch 2: val_accuracy improved from 0.63271 to 0.68489, saving model to best_model2.hdf5\n",
            "227/227 [==============================] - 30s 132ms/step - loss: 0.7619 - accuracy: 0.6690 - val_loss: 0.7350 - val_accuracy: 0.6849\n",
            "Epoch 3/70\n",
            "227/227 [==============================] - ETA: 0s - loss: 0.6702 - accuracy: 0.7244\n",
            "Epoch 3: val_accuracy improved from 0.68489 to 0.72215, saving model to best_model2.hdf5\n",
            "227/227 [==============================] - 30s 133ms/step - loss: 0.6702 - accuracy: 0.7244 - val_loss: 0.6622 - val_accuracy: 0.7222\n",
            "Epoch 4/70\n",
            "227/227 [==============================] - ETA: 0s - loss: 0.5953 - accuracy: 0.7728\n",
            "Epoch 4: val_accuracy improved from 0.72215 to 0.73333, saving model to best_model2.hdf5\n",
            "227/227 [==============================] - 30s 134ms/step - loss: 0.5953 - accuracy: 0.7728 - val_loss: 0.6553 - val_accuracy: 0.7333\n",
            "Epoch 5/70\n",
            "227/227 [==============================] - ETA: 0s - loss: 0.5295 - accuracy: 0.7994\n",
            "Epoch 5: val_accuracy improved from 0.73333 to 0.74037, saving model to best_model2.hdf5\n",
            "227/227 [==============================] - 30s 134ms/step - loss: 0.5295 - accuracy: 0.7994 - val_loss: 0.6645 - val_accuracy: 0.7404\n",
            "Epoch 6/70\n",
            "227/227 [==============================] - ETA: 0s - loss: 0.4803 - accuracy: 0.8229\n",
            "Epoch 6: val_accuracy improved from 0.74037 to 0.74907, saving model to best_model2.hdf5\n",
            "227/227 [==============================] - 41s 179ms/step - loss: 0.4803 - accuracy: 0.8229 - val_loss: 0.6541 - val_accuracy: 0.7491\n",
            "Epoch 7/70\n",
            "227/227 [==============================] - ETA: 0s - loss: 0.4525 - accuracy: 0.8377\n",
            "Epoch 7: val_accuracy improved from 0.74907 to 0.76108, saving model to best_model2.hdf5\n",
            "227/227 [==============================] - 35s 155ms/step - loss: 0.4525 - accuracy: 0.8377 - val_loss: 0.6369 - val_accuracy: 0.7611\n",
            "Epoch 8/70\n",
            "227/227 [==============================] - ETA: 0s - loss: 0.4281 - accuracy: 0.8420\n",
            "Epoch 8: val_accuracy did not improve from 0.76108\n",
            "227/227 [==============================] - 30s 132ms/step - loss: 0.4281 - accuracy: 0.8420 - val_loss: 0.6579 - val_accuracy: 0.7557\n",
            "Epoch 9/70\n",
            "227/227 [==============================] - ETA: 0s - loss: 0.4001 - accuracy: 0.8556\n",
            "Epoch 9: val_accuracy did not improve from 0.76108\n",
            "227/227 [==============================] - 31s 137ms/step - loss: 0.4001 - accuracy: 0.8556 - val_loss: 0.6917 - val_accuracy: 0.7511\n",
            "Epoch 10/70\n",
            "227/227 [==============================] - ETA: 0s - loss: 0.3797 - accuracy: 0.8606\n",
            "Epoch 10: val_accuracy improved from 0.76108 to 0.76398, saving model to best_model2.hdf5\n",
            "227/227 [==============================] - 30s 134ms/step - loss: 0.3797 - accuracy: 0.8606 - val_loss: 0.6599 - val_accuracy: 0.7640\n",
            "Epoch 11/70\n",
            "227/227 [==============================] - ETA: 0s - loss: 0.3600 - accuracy: 0.8743\n",
            "Epoch 11: val_accuracy improved from 0.76398 to 0.76853, saving model to best_model2.hdf5\n",
            "227/227 [==============================] - 30s 134ms/step - loss: 0.3600 - accuracy: 0.8743 - val_loss: 0.6710 - val_accuracy: 0.7685\n",
            "Epoch 12/70\n",
            "227/227 [==============================] - ETA: 0s - loss: 0.3465 - accuracy: 0.8747\n",
            "Epoch 12: val_accuracy did not improve from 0.76853\n",
            "227/227 [==============================] - 31s 135ms/step - loss: 0.3465 - accuracy: 0.8747 - val_loss: 0.6759 - val_accuracy: 0.7586\n",
            "Epoch 13/70\n",
            "227/227 [==============================] - ETA: 0s - loss: 0.3354 - accuracy: 0.8817\n",
            "Epoch 13: val_accuracy did not improve from 0.76853\n",
            "227/227 [==============================] - 31s 137ms/step - loss: 0.3354 - accuracy: 0.8817 - val_loss: 0.6772 - val_accuracy: 0.7677\n",
            "Epoch 14/70\n",
            "227/227 [==============================] - ETA: 0s - loss: 0.3199 - accuracy: 0.8852\n",
            "Epoch 14: val_accuracy improved from 0.76853 to 0.77019, saving model to best_model2.hdf5\n",
            "227/227 [==============================] - 30s 134ms/step - loss: 0.3199 - accuracy: 0.8852 - val_loss: 0.6937 - val_accuracy: 0.7702\n",
            "Epoch 15/70\n",
            "227/227 [==============================] - ETA: 0s - loss: 0.3133 - accuracy: 0.8861\n",
            "Epoch 15: val_accuracy did not improve from 0.77019\n",
            "227/227 [==============================] - 31s 135ms/step - loss: 0.3133 - accuracy: 0.8861 - val_loss: 0.7031 - val_accuracy: 0.7607\n",
            "Epoch 16/70\n",
            "227/227 [==============================] - ETA: 0s - loss: 0.3014 - accuracy: 0.8928\n",
            "Epoch 16: val_accuracy improved from 0.77019 to 0.77474, saving model to best_model2.hdf5\n",
            "227/227 [==============================] - 31s 138ms/step - loss: 0.3014 - accuracy: 0.8928 - val_loss: 0.6744 - val_accuracy: 0.7747\n",
            "Epoch 17/70\n",
            "227/227 [==============================] - ETA: 0s - loss: 0.2995 - accuracy: 0.8912\n",
            "Epoch 17: val_accuracy did not improve from 0.77474\n",
            "227/227 [==============================] - 30s 132ms/step - loss: 0.2995 - accuracy: 0.8912 - val_loss: 0.6775 - val_accuracy: 0.7739\n",
            "Epoch 18/70\n",
            "227/227 [==============================] - ETA: 0s - loss: 0.2896 - accuracy: 0.8983\n",
            "Epoch 18: val_accuracy improved from 0.77474 to 0.77723, saving model to best_model2.hdf5\n",
            "227/227 [==============================] - 30s 134ms/step - loss: 0.2896 - accuracy: 0.8983 - val_loss: 0.6952 - val_accuracy: 0.7772\n",
            "Epoch 19/70\n",
            "227/227 [==============================] - ETA: 0s - loss: 0.2797 - accuracy: 0.8986\n",
            "Epoch 19: val_accuracy did not improve from 0.77723\n",
            "227/227 [==============================] - 30s 133ms/step - loss: 0.2797 - accuracy: 0.8986 - val_loss: 0.6489 - val_accuracy: 0.7768\n",
            "Epoch 20/70\n",
            "227/227 [==============================] - ETA: 0s - loss: 0.2726 - accuracy: 0.9026\n",
            "Epoch 20: val_accuracy did not improve from 0.77723\n",
            "227/227 [==============================] - 30s 132ms/step - loss: 0.2726 - accuracy: 0.9026 - val_loss: 0.6686 - val_accuracy: 0.7640\n",
            "Epoch 21/70\n",
            "227/227 [==============================] - ETA: 0s - loss: 0.2623 - accuracy: 0.9053\n",
            "Epoch 21: val_accuracy did not improve from 0.77723\n",
            "227/227 [==============================] - 31s 134ms/step - loss: 0.2623 - accuracy: 0.9053 - val_loss: 0.7206 - val_accuracy: 0.7627\n",
            "Epoch 22/70\n",
            "227/227 [==============================] - ETA: 0s - loss: 0.2501 - accuracy: 0.9108\n",
            "Epoch 22: val_accuracy did not improve from 0.77723\n",
            "227/227 [==============================] - 30s 133ms/step - loss: 0.2501 - accuracy: 0.9108 - val_loss: 0.6794 - val_accuracy: 0.7685\n",
            "Epoch 23/70\n",
            "227/227 [==============================] - ETA: 0s - loss: 0.2551 - accuracy: 0.9097\n",
            "Epoch 23: val_accuracy improved from 0.77723 to 0.77930, saving model to best_model2.hdf5\n",
            "227/227 [==============================] - 31s 135ms/step - loss: 0.2551 - accuracy: 0.9097 - val_loss: 0.6814 - val_accuracy: 0.7793\n",
            "Epoch 24/70\n",
            "227/227 [==============================] - ETA: 0s - loss: 0.2488 - accuracy: 0.9114\n",
            "Epoch 24: val_accuracy improved from 0.77930 to 0.78219, saving model to best_model2.hdf5\n",
            "227/227 [==============================] - 30s 132ms/step - loss: 0.2488 - accuracy: 0.9114 - val_loss: 0.7020 - val_accuracy: 0.7822\n",
            "Epoch 25/70\n",
            "227/227 [==============================] - ETA: 0s - loss: 0.2435 - accuracy: 0.9136\n",
            "Epoch 25: val_accuracy improved from 0.78219 to 0.78841, saving model to best_model2.hdf5\n",
            "227/227 [==============================] - 30s 133ms/step - loss: 0.2435 - accuracy: 0.9136 - val_loss: 0.7095 - val_accuracy: 0.7884\n",
            "Epoch 26/70\n",
            "227/227 [==============================] - ETA: 0s - loss: 0.2337 - accuracy: 0.9175\n",
            "Epoch 26: val_accuracy did not improve from 0.78841\n",
            "227/227 [==============================] - 30s 133ms/step - loss: 0.2337 - accuracy: 0.9175 - val_loss: 0.7470 - val_accuracy: 0.7855\n",
            "Epoch 27/70\n",
            "227/227 [==============================] - ETA: 0s - loss: 0.2349 - accuracy: 0.9205\n",
            "Epoch 27: val_accuracy improved from 0.78841 to 0.79048, saving model to best_model2.hdf5\n",
            "227/227 [==============================] - 30s 134ms/step - loss: 0.2349 - accuracy: 0.9205 - val_loss: 0.6865 - val_accuracy: 0.7905\n",
            "Epoch 28/70\n",
            "227/227 [==============================] - ETA: 0s - loss: 0.2282 - accuracy: 0.9205\n",
            "Epoch 28: val_accuracy did not improve from 0.79048\n",
            "227/227 [==============================] - 30s 134ms/step - loss: 0.2282 - accuracy: 0.9205 - val_loss: 0.7134 - val_accuracy: 0.7859\n",
            "Epoch 29/70\n",
            "227/227 [==============================] - ETA: 0s - loss: 0.2204 - accuracy: 0.9249\n",
            "Epoch 29: val_accuracy did not improve from 0.79048\n",
            "227/227 [==============================] - 30s 133ms/step - loss: 0.2204 - accuracy: 0.9249 - val_loss: 0.7705 - val_accuracy: 0.7863\n",
            "Epoch 30/70\n",
            "227/227 [==============================] - ETA: 0s - loss: 0.2156 - accuracy: 0.9234\n",
            "Epoch 30: val_accuracy did not improve from 0.79048\n",
            "227/227 [==============================] - 30s 134ms/step - loss: 0.2156 - accuracy: 0.9234 - val_loss: 0.7746 - val_accuracy: 0.7880\n",
            "Epoch 31/70\n",
            "227/227 [==============================] - ETA: 0s - loss: 0.2175 - accuracy: 0.9235\n",
            "Epoch 31: val_accuracy did not improve from 0.79048\n",
            "227/227 [==============================] - 30s 133ms/step - loss: 0.2175 - accuracy: 0.9235 - val_loss: 0.7330 - val_accuracy: 0.7888\n",
            "Epoch 32/70\n",
            "227/227 [==============================] - ETA: 0s - loss: 0.2140 - accuracy: 0.9253\n",
            "Epoch 32: val_accuracy did not improve from 0.79048\n",
            "227/227 [==============================] - 30s 133ms/step - loss: 0.2140 - accuracy: 0.9253 - val_loss: 0.7460 - val_accuracy: 0.7855\n",
            "Epoch 33/70\n",
            "227/227 [==============================] - ETA: 0s - loss: 0.2081 - accuracy: 0.9280\n",
            "Epoch 33: val_accuracy did not improve from 0.79048\n",
            "227/227 [==============================] - 30s 133ms/step - loss: 0.2081 - accuracy: 0.9280 - val_loss: 0.7833 - val_accuracy: 0.7785\n",
            "Epoch 34/70\n",
            "227/227 [==============================] - ETA: 0s - loss: 0.2014 - accuracy: 0.9295\n",
            "Epoch 34: val_accuracy improved from 0.79048 to 0.79172, saving model to best_model2.hdf5\n",
            "227/227 [==============================] - 30s 134ms/step - loss: 0.2014 - accuracy: 0.9295 - val_loss: 0.7507 - val_accuracy: 0.7917\n",
            "Epoch 35/70\n",
            "227/227 [==============================] - ETA: 0s - loss: 0.1991 - accuracy: 0.9320\n",
            "Epoch 35: val_accuracy did not improve from 0.79172\n",
            "227/227 [==============================] - 31s 136ms/step - loss: 0.1991 - accuracy: 0.9320 - val_loss: 0.7635 - val_accuracy: 0.7872\n",
            "Epoch 36/70\n",
            "227/227 [==============================] - ETA: 0s - loss: 0.1993 - accuracy: 0.9318\n",
            "Epoch 36: val_accuracy improved from 0.79172 to 0.79627, saving model to best_model2.hdf5\n",
            "227/227 [==============================] - 30s 134ms/step - loss: 0.1993 - accuracy: 0.9318 - val_loss: 0.7090 - val_accuracy: 0.7963\n",
            "Epoch 37/70\n",
            "227/227 [==============================] - ETA: 0s - loss: 0.1983 - accuracy: 0.9281\n",
            "Epoch 37: val_accuracy did not improve from 0.79627\n",
            "227/227 [==============================] - 30s 134ms/step - loss: 0.1983 - accuracy: 0.9281 - val_loss: 0.7283 - val_accuracy: 0.7863\n",
            "Epoch 38/70\n",
            "227/227 [==============================] - ETA: 0s - loss: 0.1940 - accuracy: 0.9308\n",
            "Epoch 38: val_accuracy improved from 0.79627 to 0.79793, saving model to best_model2.hdf5\n",
            "227/227 [==============================] - 31s 136ms/step - loss: 0.1940 - accuracy: 0.9308 - val_loss: 0.7155 - val_accuracy: 0.7979\n",
            "Epoch 39/70\n",
            "227/227 [==============================] - ETA: 0s - loss: 0.1866 - accuracy: 0.9337\n",
            "Epoch 39: val_accuracy did not improve from 0.79793\n",
            "227/227 [==============================] - 30s 133ms/step - loss: 0.1866 - accuracy: 0.9337 - val_loss: 0.7511 - val_accuracy: 0.7963\n",
            "Epoch 40/70\n",
            "227/227 [==============================] - ETA: 0s - loss: 0.1849 - accuracy: 0.9335\n",
            "Epoch 40: val_accuracy improved from 0.79793 to 0.79876, saving model to best_model2.hdf5\n",
            "227/227 [==============================] - 30s 134ms/step - loss: 0.1849 - accuracy: 0.9335 - val_loss: 0.7347 - val_accuracy: 0.7988\n",
            "Epoch 41/70\n",
            "227/227 [==============================] - ETA: 0s - loss: 0.1862 - accuracy: 0.9364\n",
            "Epoch 41: val_accuracy did not improve from 0.79876\n",
            "227/227 [==============================] - 31s 135ms/step - loss: 0.1862 - accuracy: 0.9364 - val_loss: 0.7463 - val_accuracy: 0.7855\n",
            "Epoch 42/70\n",
            "227/227 [==============================] - ETA: 0s - loss: 0.1792 - accuracy: 0.9365\n",
            "Epoch 42: val_accuracy improved from 0.79876 to 0.79959, saving model to best_model2.hdf5\n",
            "227/227 [==============================] - 30s 133ms/step - loss: 0.1792 - accuracy: 0.9365 - val_loss: 0.7500 - val_accuracy: 0.7996\n",
            "Epoch 43/70\n",
            "227/227 [==============================] - ETA: 0s - loss: 0.1769 - accuracy: 0.9354\n",
            "Epoch 43: val_accuracy did not improve from 0.79959\n",
            "227/227 [==============================] - 31s 136ms/step - loss: 0.1769 - accuracy: 0.9354 - val_loss: 0.7704 - val_accuracy: 0.7979\n",
            "Epoch 44/70\n",
            "227/227 [==============================] - ETA: 0s - loss: 0.1729 - accuracy: 0.9391\n",
            "Epoch 44: val_accuracy did not improve from 0.79959\n",
            "227/227 [==============================] - 30s 133ms/step - loss: 0.1729 - accuracy: 0.9391 - val_loss: 0.7878 - val_accuracy: 0.7975\n",
            "Epoch 45/70\n",
            "227/227 [==============================] - ETA: 0s - loss: 0.1747 - accuracy: 0.9378\n",
            "Epoch 45: val_accuracy improved from 0.79959 to 0.80124, saving model to best_model2.hdf5\n",
            "227/227 [==============================] - 31s 136ms/step - loss: 0.1747 - accuracy: 0.9378 - val_loss: 0.8417 - val_accuracy: 0.8012\n",
            "Epoch 46/70\n",
            "227/227 [==============================] - ETA: 0s - loss: 0.1698 - accuracy: 0.9427\n",
            "Epoch 46: val_accuracy did not improve from 0.80124\n",
            "227/227 [==============================] - 30s 134ms/step - loss: 0.1698 - accuracy: 0.9427 - val_loss: 0.7822 - val_accuracy: 0.7959\n",
            "Epoch 47/70\n",
            "227/227 [==============================] - ETA: 0s - loss: 0.1665 - accuracy: 0.9424\n",
            "Epoch 47: val_accuracy did not improve from 0.80124\n",
            "227/227 [==============================] - 30s 133ms/step - loss: 0.1665 - accuracy: 0.9424 - val_loss: 0.8509 - val_accuracy: 0.7872\n",
            "Epoch 48/70\n",
            "227/227 [==============================] - ETA: 0s - loss: 0.1639 - accuracy: 0.9420\n",
            "Epoch 48: val_accuracy did not improve from 0.80124\n",
            "227/227 [==============================] - 31s 134ms/step - loss: 0.1639 - accuracy: 0.9420 - val_loss: 0.8091 - val_accuracy: 0.7938\n",
            "Epoch 49/70\n",
            "227/227 [==============================] - ETA: 0s - loss: 0.1651 - accuracy: 0.9420\n",
            "Epoch 49: val_accuracy did not improve from 0.80124\n",
            "227/227 [==============================] - 31s 135ms/step - loss: 0.1651 - accuracy: 0.9420 - val_loss: 0.8289 - val_accuracy: 0.7930\n",
            "Epoch 50/70\n",
            "227/227 [==============================] - ETA: 0s - loss: 0.1564 - accuracy: 0.9449\n",
            "Epoch 50: val_accuracy did not improve from 0.80124\n",
            "227/227 [==============================] - 30s 134ms/step - loss: 0.1564 - accuracy: 0.9449 - val_loss: 0.7573 - val_accuracy: 0.7975\n",
            "Epoch 51/70\n",
            "227/227 [==============================] - ETA: 0s - loss: 0.1621 - accuracy: 0.9422\n",
            "Epoch 51: val_accuracy improved from 0.80124 to 0.80373, saving model to best_model2.hdf5\n",
            "227/227 [==============================] - 31s 135ms/step - loss: 0.1621 - accuracy: 0.9422 - val_loss: 0.7638 - val_accuracy: 0.8037\n",
            "Epoch 52/70\n",
            "227/227 [==============================] - ETA: 0s - loss: 0.1608 - accuracy: 0.9418\n",
            "Epoch 52: val_accuracy did not improve from 0.80373\n",
            "227/227 [==============================] - 30s 132ms/step - loss: 0.1608 - accuracy: 0.9418 - val_loss: 0.7829 - val_accuracy: 0.7814\n",
            "Epoch 53/70\n",
            "227/227 [==============================] - ETA: 0s - loss: 0.1565 - accuracy: 0.9464\n",
            "Epoch 53: val_accuracy did not improve from 0.80373\n",
            "227/227 [==============================] - 31s 135ms/step - loss: 0.1565 - accuracy: 0.9464 - val_loss: 0.8023 - val_accuracy: 0.7992\n",
            "Epoch 54/70\n",
            "227/227 [==============================] - ETA: 0s - loss: 0.1600 - accuracy: 0.9445\n",
            "Epoch 54: val_accuracy improved from 0.80373 to 0.80497, saving model to best_model2.hdf5\n",
            "227/227 [==============================] - 30s 133ms/step - loss: 0.1600 - accuracy: 0.9445 - val_loss: 0.8113 - val_accuracy: 0.8050\n",
            "Epoch 55/70\n",
            "227/227 [==============================] - ETA: 0s - loss: 0.1528 - accuracy: 0.9451\n",
            "Epoch 55: val_accuracy did not improve from 0.80497\n",
            "227/227 [==============================] - 30s 133ms/step - loss: 0.1528 - accuracy: 0.9451 - val_loss: 0.8028 - val_accuracy: 0.8046\n",
            "Epoch 56/70\n",
            "227/227 [==============================] - ETA: 0s - loss: 0.1516 - accuracy: 0.9473\n",
            "Epoch 56: val_accuracy did not improve from 0.80497\n",
            "227/227 [==============================] - 31s 135ms/step - loss: 0.1516 - accuracy: 0.9473 - val_loss: 0.8253 - val_accuracy: 0.7925\n",
            "Epoch 57/70\n",
            "227/227 [==============================] - ETA: 0s - loss: 0.1482 - accuracy: 0.9484\n",
            "Epoch 57: val_accuracy did not improve from 0.80497\n",
            "227/227 [==============================] - 30s 133ms/step - loss: 0.1482 - accuracy: 0.9484 - val_loss: 0.8137 - val_accuracy: 0.8017\n",
            "Epoch 58/70\n",
            "227/227 [==============================] - ETA: 0s - loss: 0.1489 - accuracy: 0.9498\n",
            "Epoch 58: val_accuracy did not improve from 0.80497\n",
            "227/227 [==============================] - 30s 133ms/step - loss: 0.1489 - accuracy: 0.9498 - val_loss: 0.8040 - val_accuracy: 0.7971\n",
            "Epoch 59/70\n",
            "227/227 [==============================] - ETA: 0s - loss: 0.1446 - accuracy: 0.9476\n",
            "Epoch 59: val_accuracy improved from 0.80497 to 0.80663, saving model to best_model2.hdf5\n",
            "227/227 [==============================] - 30s 132ms/step - loss: 0.1446 - accuracy: 0.9476 - val_loss: 0.8372 - val_accuracy: 0.8066\n",
            "Epoch 60/70\n",
            "227/227 [==============================] - ETA: 0s - loss: 0.1415 - accuracy: 0.9514\n",
            "Epoch 60: val_accuracy did not improve from 0.80663\n",
            "227/227 [==============================] - 30s 134ms/step - loss: 0.1415 - accuracy: 0.9514 - val_loss: 0.8152 - val_accuracy: 0.8029\n",
            "Epoch 61/70\n",
            "227/227 [==============================] - ETA: 0s - loss: 0.1416 - accuracy: 0.9513\n",
            "Epoch 61: val_accuracy did not improve from 0.80663\n",
            "227/227 [==============================] - 30s 133ms/step - loss: 0.1416 - accuracy: 0.9513 - val_loss: 0.8438 - val_accuracy: 0.8008\n",
            "Epoch 62/70\n",
            "227/227 [==============================] - ETA: 0s - loss: 0.1334 - accuracy: 0.9542\n",
            "Epoch 62: val_accuracy did not improve from 0.80663\n",
            "227/227 [==============================] - 31s 135ms/step - loss: 0.1334 - accuracy: 0.9542 - val_loss: 0.8800 - val_accuracy: 0.8050\n",
            "Epoch 63/70\n",
            "227/227 [==============================] - ETA: 0s - loss: 0.1442 - accuracy: 0.9506\n",
            "Epoch 63: val_accuracy did not improve from 0.80663\n",
            "227/227 [==============================] - 30s 132ms/step - loss: 0.1442 - accuracy: 0.9506 - val_loss: 0.8221 - val_accuracy: 0.8050\n",
            "Epoch 64/70\n",
            "227/227 [==============================] - ETA: 0s - loss: 0.1382 - accuracy: 0.9517\n",
            "Epoch 64: val_accuracy did not improve from 0.80663\n",
            "227/227 [==============================] - 31s 135ms/step - loss: 0.1382 - accuracy: 0.9517 - val_loss: 0.8507 - val_accuracy: 0.8066\n",
            "Epoch 65/70\n",
            "227/227 [==============================] - ETA: 0s - loss: 0.1432 - accuracy: 0.9511\n",
            "Epoch 65: val_accuracy did not improve from 0.80663\n",
            "227/227 [==============================] - 30s 134ms/step - loss: 0.1432 - accuracy: 0.9511 - val_loss: 0.8487 - val_accuracy: 0.8041\n",
            "Epoch 66/70\n",
            "227/227 [==============================] - ETA: 0s - loss: 0.1324 - accuracy: 0.9525\n",
            "Epoch 66: val_accuracy did not improve from 0.80663\n",
            "227/227 [==============================] - 30s 134ms/step - loss: 0.1324 - accuracy: 0.9525 - val_loss: 0.8485 - val_accuracy: 0.8046\n",
            "Epoch 67/70\n",
            "227/227 [==============================] - ETA: 0s - loss: 0.1346 - accuracy: 0.9521\n",
            "Epoch 67: val_accuracy did not improve from 0.80663\n",
            "227/227 [==============================] - 35s 154ms/step - loss: 0.1346 - accuracy: 0.9521 - val_loss: 0.8599 - val_accuracy: 0.8066\n",
            "Epoch 68/70\n",
            "227/227 [==============================] - ETA: 0s - loss: 0.1271 - accuracy: 0.9557\n",
            "Epoch 68: val_accuracy did not improve from 0.80663\n",
            "227/227 [==============================] - 30s 134ms/step - loss: 0.1271 - accuracy: 0.9557 - val_loss: 0.9113 - val_accuracy: 0.7983\n",
            "Epoch 69/70\n",
            "227/227 [==============================] - ETA: 0s - loss: 0.1330 - accuracy: 0.9528\n",
            "Epoch 69: val_accuracy improved from 0.80663 to 0.80952, saving model to best_model2.hdf5\n",
            "227/227 [==============================] - 30s 132ms/step - loss: 0.1330 - accuracy: 0.9528 - val_loss: 0.8369 - val_accuracy: 0.8095\n",
            "Epoch 70/70\n",
            "227/227 [==============================] - ETA: 0s - loss: 0.1303 - accuracy: 0.9539\n",
            "Epoch 70: val_accuracy did not improve from 0.80952\n",
            "227/227 [==============================] - 31s 135ms/step - loss: 0.1303 - accuracy: 0.9539 - val_loss: 0.8522 - val_accuracy: 0.8054\n"
          ]
        }
      ]
    },
    {
      "cell_type": "markdown",
      "source": [
        "#Evaluar al modelo"
      ],
      "metadata": {
        "id": "wljVCXvC-Y-D"
      }
    },
    {
      "cell_type": "code",
      "source": [
        "best_model = keras.models.load_model(\"best_model2.hdf5\")"
      ],
      "metadata": {
        "id": "Y0s4H9Md-ru7"
      },
      "execution_count": null,
      "outputs": []
    },
    {
      "cell_type": "code",
      "source": [
        "test_loss, test_acc = best_model.evaluate(X_test, y_test, verbose=2)\n",
        "print('Model accuracy: ',test_acc)"
      ],
      "metadata": {
        "colab": {
          "base_uri": "https://localhost:8080/"
        },
        "id": "BHJjX9VNCk_8",
        "outputId": "5afd1b12-3295-438d-c920-618f8bdef2a5"
      },
      "execution_count": null,
      "outputs": [
        {
          "output_type": "stream",
          "name": "stdout",
          "text": [
            "76/76 - 3s - loss: 0.8369 - accuracy: 0.8095 - 3s/epoch - 33ms/step\n",
            "Model accuracy:  0.8095238208770752\n"
          ]
        }
      ]
    },
    {
      "cell_type": "code",
      "source": [
        "print(history.history.keys())\n",
        "# history for accuracy\n",
        "plt.plot(history.history['accuracy'])\n",
        "plt.plot(history.history['val_accuracy'])\n",
        "plt.title('model accuracy')\n",
        "plt.ylabel('accuracy')\n",
        "plt.xlabel('epoch')\n",
        "plt.legend(['train', 'test'], loc='upper left')\n",
        "plt.show()\n",
        "# history for loss\n",
        "plt.plot(history.history['loss'])\n",
        "plt.plot(history.history['val_loss'])\n",
        "plt.title('model loss')\n",
        "plt.ylabel('loss')\n",
        "plt.xlabel('epoch')\n",
        "plt.legend(['train', 'test'], loc='upper left')\n",
        "plt.show()"
      ],
      "metadata": {
        "colab": {
          "base_uri": "https://localhost:8080/",
          "height": 590
        },
        "id": "PtuoifheDB_r",
        "outputId": "a09baaf0-6920-431a-f2bf-9da256c01eba"
      },
      "execution_count": null,
      "outputs": [
        {
          "output_type": "stream",
          "name": "stdout",
          "text": [
            "dict_keys(['loss', 'accuracy', 'val_loss', 'val_accuracy'])\n"
          ]
        },
        {
          "output_type": "display_data",
          "data": {
            "image/png": "[encoded data removed]",
            "text/plain": [
              "<Figure size 432x288 with 1 Axes>"
            ]
          },
          "metadata": {
            "needs_background": "light"
          }
        },
        {
          "output_type": "display_data",
          "data": {
            "image/png": "[encoded data removed]",
            "text/plain": [
              "<Figure size 432x288 with 1 Axes>"
            ]
          },
          "metadata": {
            "needs_background": "light"
          }
        }
      ]
    },
    {
      "cell_type": "code",
      "source": [
        "from sklearn.metrics import classification_report\n",
        "import time\n",
        "import numpy as np\n",
        "\n",
        "predictions = best_model.predict(X_test)\n",
        "start_time = time.time()\n",
        "test_predictions = np.argmax(best_model.predict(X_test), axis=-1)\n",
        "print(classification_report(y_test.argmax(axis=1),test_predictions))\n",
        "print(\"Time taken to predict the model \" + str(time.time() - start_time))"
      ],
      "metadata": {
        "colab": {
          "base_uri": "https://localhost:8080/"
        },
        "id": "qBBwlklyDnI8",
        "outputId": "117e500b-0799-4def-a678-58b57c91da01"
      },
      "execution_count": null,
      "outputs": [
        {
          "output_type": "stream",
          "name": "stdout",
          "text": [
            "              precision    recall  f1-score   support\n",
            "\n",
            "           0       0.81      0.78      0.80       830\n",
            "           1       0.77      0.81      0.79       781\n",
            "           2       0.85      0.84      0.84       804\n",
            "\n",
            "    accuracy                           0.81      2415\n",
            "   macro avg       0.81      0.81      0.81      2415\n",
            "weighted avg       0.81      0.81      0.81      2415\n",
            "\n",
            "Time taken to predict the model 1.6576547622680664\n"
          ]
        }
      ]
    },
    {
      "cell_type": "code",
      "source": [
        "from sklearn.metrics import confusion_matrix\n",
        "matrix = confusion_matrix(y_test.argmax(axis=1), np.around(predictions, decimals=0).argmax(axis=1))\n",
        "\n",
        "import seaborn as sns\n",
        "conf_matrix = pd.DataFrame(matrix, index = ['Neutral','Negative','Positive'],columns = ['Neutral','Negative','Positive'])\n",
        "#Normalizing\n",
        "conf_matrix = conf_matrix.astype('float') / conf_matrix.sum(axis=1)[:, np.newaxis]\n",
        "plt.figure(figsize = (15,15))\n",
        "sns.heatmap(conf_matrix, annot=True, annot_kws={\"size\": 15})"
      ],
      "metadata": {
        "colab": {
          "base_uri": "https://localhost:8080/",
          "height": 880
        },
        "id": "RYnJehdiEWJE",
        "outputId": "1d7b2ca1-c485-4d10-bc4e-7b19a49a3e5c"
      },
      "execution_count": null,
      "outputs": [
        {
          "output_type": "execute_result",
          "data": {
            "text/plain": [
              "<matplotlib.axes._subplots.AxesSubplot at 0x7f3b6d63c850>"
            ]
          },
          "metadata": {},
          "execution_count": 24
        },
        {
          "output_type": "display_data",
          "data": {
            "image/png": "[encoded data removed]",
            "text/plain": [
              "<Figure size 1080x1080 with 2 Axes>"
            ]
          },
          "metadata": {
            "needs_background": "light"
          }
        }
      ]
    }
  ],
  "metadata": {
    "kernelspec": {
      "display_name": "Python 3",
      "language": "python",
      "name": "python3"
    },
    "language_info": {
      "codemirror_mode": {
        "name": "ipython",
        "version": 3
      },
      "file_extension": ".py",
      "mimetype": "text/x-python",
      "name": "python",
      "nbconvert_exporter": "python",
      "pygments_lexer": "ipython3",
      "version": "3.7.6"
    },
    "papermill": {
      "duration": 2724.650172,
      "end_time": "2020-10-06T22:04:52.151005",
      "environment_variables": {},
      "exception": null,
      "input_path": "__notebook__.ipynb",
      "output_path": "__notebook__.ipynb",
      "parameters": {},
      "start_time": "2020-10-06T21:19:27.500833",
      "version": "2.1.0"
    },
    "colab": {
      "name": "TEST3.ipynb",
      "provenance": [],
      "collapsed_sections": []
    }
  },
  "nbformat": 4,
  "nbformat_minor": 0
}